{
 "cells": [
  {
   "cell_type": "code",
   "execution_count": 1,
   "id": "9a4509d4",
   "metadata": {},
   "outputs": [],
   "source": [
    "dataset=[['1','3','4'],\n",
    "        ['2','3','5'],\n",
    "        ['1','2','3','5'],\n",
    "        ['2','5']]"
   ]
  },
  {
   "cell_type": "code",
   "execution_count": 2,
   "id": "c0f13eb0",
   "metadata": {},
   "outputs": [],
   "source": [
    "from mlxtend.preprocessing import TransactionEncoder"
   ]
  },
  {
   "cell_type": "code",
   "execution_count": 3,
   "id": "a73472be",
   "metadata": {},
   "outputs": [],
   "source": [
    "encoder = TransactionEncoder().fit(dataset)"
   ]
  },
  {
   "cell_type": "code",
   "execution_count": 4,
   "id": "004edbb1",
   "metadata": {},
   "outputs": [],
   "source": [
    "onehot = encoder.transform(dataset)"
   ]
  },
  {
   "cell_type": "code",
   "execution_count": 5,
   "id": "d58f8210",
   "metadata": {},
   "outputs": [],
   "source": [
    "import pandas as pd"
   ]
  },
  {
   "cell_type": "code",
   "execution_count": 6,
   "id": "2ee510ca",
   "metadata": {},
   "outputs": [],
   "source": [
    "onehot=pd.DataFrame(onehot,columns=encoder.columns_)"
   ]
  },
  {
   "cell_type": "code",
   "execution_count": 7,
   "id": "52b07a86",
   "metadata": {},
   "outputs": [
    {
     "data": {
      "text/html": [
       "<div>\n",
       "<style scoped>\n",
       "    .dataframe tbody tr th:only-of-type {\n",
       "        vertical-align: middle;\n",
       "    }\n",
       "\n",
       "    .dataframe tbody tr th {\n",
       "        vertical-align: top;\n",
       "    }\n",
       "\n",
       "    .dataframe thead th {\n",
       "        text-align: right;\n",
       "    }\n",
       "</style>\n",
       "<table border=\"1\" class=\"dataframe\">\n",
       "  <thead>\n",
       "    <tr style=\"text-align: right;\">\n",
       "      <th></th>\n",
       "      <th>1</th>\n",
       "      <th>2</th>\n",
       "      <th>3</th>\n",
       "      <th>4</th>\n",
       "      <th>5</th>\n",
       "    </tr>\n",
       "  </thead>\n",
       "  <tbody>\n",
       "    <tr>\n",
       "      <th>0</th>\n",
       "      <td>True</td>\n",
       "      <td>False</td>\n",
       "      <td>True</td>\n",
       "      <td>True</td>\n",
       "      <td>False</td>\n",
       "    </tr>\n",
       "    <tr>\n",
       "      <th>1</th>\n",
       "      <td>False</td>\n",
       "      <td>True</td>\n",
       "      <td>True</td>\n",
       "      <td>False</td>\n",
       "      <td>True</td>\n",
       "    </tr>\n",
       "    <tr>\n",
       "      <th>2</th>\n",
       "      <td>True</td>\n",
       "      <td>True</td>\n",
       "      <td>True</td>\n",
       "      <td>False</td>\n",
       "      <td>True</td>\n",
       "    </tr>\n",
       "    <tr>\n",
       "      <th>3</th>\n",
       "      <td>False</td>\n",
       "      <td>True</td>\n",
       "      <td>False</td>\n",
       "      <td>False</td>\n",
       "      <td>True</td>\n",
       "    </tr>\n",
       "  </tbody>\n",
       "</table>\n",
       "</div>"
      ],
      "text/plain": [
       "       1      2      3      4      5\n",
       "0   True  False   True   True  False\n",
       "1  False   True   True  False   True\n",
       "2   True   True   True  False   True\n",
       "3  False   True  False  False   True"
      ]
     },
     "execution_count": 7,
     "metadata": {},
     "output_type": "execute_result"
    }
   ],
   "source": [
    "onehot"
   ]
  },
  {
   "cell_type": "code",
   "execution_count": 8,
   "id": "77a83515",
   "metadata": {},
   "outputs": [
    {
     "name": "stdout",
     "output_type": "stream",
     "text": [
      "1    0.50\n",
      "2    0.75\n",
      "3    0.75\n",
      "4    0.25\n",
      "5    0.75\n",
      "dtype: float64\n"
     ]
    }
   ],
   "source": [
    "print(onehot.mean())"
   ]
  },
  {
   "cell_type": "code",
   "execution_count": 9,
   "id": "c2354b32",
   "metadata": {},
   "outputs": [
    {
     "name": "stdout",
     "output_type": "stream",
     "text": [
      "0.5\n"
     ]
    }
   ],
   "source": [
    "print(onehot['1'].mean())"
   ]
  },
  {
   "cell_type": "code",
   "execution_count": 10,
   "id": "60a86959",
   "metadata": {},
   "outputs": [],
   "source": [
    "import numpy as np"
   ]
  },
  {
   "cell_type": "code",
   "execution_count": 11,
   "id": "bf697bd2",
   "metadata": {},
   "outputs": [],
   "source": [
    "supportonetwo=np.logical_and(onehot['1'],onehot['2']).mean()"
   ]
  },
  {
   "cell_type": "code",
   "execution_count": 12,
   "id": "df3db1e0",
   "metadata": {},
   "outputs": [],
   "source": [
    "supportone=onehot['1'].mean()"
   ]
  },
  {
   "cell_type": "code",
   "execution_count": 13,
   "id": "360ec450",
   "metadata": {},
   "outputs": [],
   "source": [
    "confidence = supportonetwo/supportone"
   ]
  },
  {
   "cell_type": "code",
   "execution_count": 14,
   "id": "97d3af70",
   "metadata": {},
   "outputs": [
    {
     "name": "stdout",
     "output_type": "stream",
     "text": [
      "0.5\n"
     ]
    }
   ],
   "source": [
    "print(confidence)"
   ]
  },
  {
   "cell_type": "code",
   "execution_count": 15,
   "id": "c9adddae",
   "metadata": {},
   "outputs": [],
   "source": [
    "supporttwo=onehot['2'].mean()"
   ]
  },
  {
   "cell_type": "code",
   "execution_count": 16,
   "id": "cae9fcd1",
   "metadata": {},
   "outputs": [],
   "source": [
    "lift=supportonetwo/(supportone*supporttwo)"
   ]
  },
  {
   "cell_type": "code",
   "execution_count": 17,
   "id": "dfa55000",
   "metadata": {},
   "outputs": [
    {
     "name": "stdout",
     "output_type": "stream",
     "text": [
      "0.6666666666666666\n"
     ]
    }
   ],
   "source": [
    "print(lift)"
   ]
  },
  {
   "cell_type": "code",
   "execution_count": 18,
   "id": "c136ba1f",
   "metadata": {},
   "outputs": [],
   "source": [
    "from mlxtend.frequent_patterns import apriori"
   ]
  },
  {
   "cell_type": "code",
   "execution_count": 19,
   "id": "d50a96e0",
   "metadata": {},
   "outputs": [],
   "source": [
    "frequent_itemset=apriori(onehot,min_support=0.5,max_len=4,use_colnames=True)"
   ]
  },
  {
   "cell_type": "code",
   "execution_count": 20,
   "id": "60c1793f",
   "metadata": {},
   "outputs": [
    {
     "name": "stdout",
     "output_type": "stream",
     "text": [
      "   support   itemsets\n",
      "0     0.50        (1)\n",
      "1     0.75        (2)\n",
      "2     0.75        (3)\n",
      "3     0.75        (5)\n",
      "4     0.50     (1, 3)\n",
      "5     0.50     (3, 2)\n",
      "6     0.75     (5, 2)\n",
      "7     0.50     (5, 3)\n",
      "8     0.50  (5, 3, 2)\n"
     ]
    }
   ],
   "source": [
    "print(frequent_itemset)"
   ]
  },
  {
   "cell_type": "code",
   "execution_count": 21,
   "id": "57da2aa5",
   "metadata": {},
   "outputs": [],
   "source": [
    "from mlxtend.frequent_patterns import association_rules"
   ]
  },
  {
   "cell_type": "code",
   "execution_count": 22,
   "id": "9f250877",
   "metadata": {},
   "outputs": [],
   "source": [
    "rules=association_rules(frequent_itemset,metric=\"support\",min_threshold=0)"
   ]
  },
  {
   "cell_type": "code",
   "execution_count": 23,
   "id": "4fc39194",
   "metadata": {},
   "outputs": [
    {
     "name": "stdout",
     "output_type": "stream",
     "text": [
      "   antecedents consequents  antecedent support  consequent support  support  \\\n",
      "0          (1)         (3)                0.50                0.75     0.50   \n",
      "1          (3)         (1)                0.75                0.50     0.50   \n",
      "2          (3)         (2)                0.75                0.75     0.50   \n",
      "3          (2)         (3)                0.75                0.75     0.50   \n",
      "4          (5)         (2)                0.75                0.75     0.75   \n",
      "5          (2)         (5)                0.75                0.75     0.75   \n",
      "6          (5)         (3)                0.75                0.75     0.50   \n",
      "7          (3)         (5)                0.75                0.75     0.50   \n",
      "8       (5, 3)         (2)                0.50                0.75     0.50   \n",
      "9       (5, 2)         (3)                0.75                0.75     0.50   \n",
      "10      (3, 2)         (5)                0.50                0.75     0.50   \n",
      "11         (5)      (3, 2)                0.75                0.50     0.50   \n",
      "12         (3)      (5, 2)                0.75                0.75     0.50   \n",
      "13         (2)      (5, 3)                0.75                0.50     0.50   \n",
      "\n",
      "    confidence      lift  leverage  conviction  \n",
      "0     1.000000  1.333333    0.1250         inf  \n",
      "1     0.666667  1.333333    0.1250        1.50  \n",
      "2     0.666667  0.888889   -0.0625        0.75  \n",
      "3     0.666667  0.888889   -0.0625        0.75  \n",
      "4     1.000000  1.333333    0.1875         inf  \n",
      "5     1.000000  1.333333    0.1875         inf  \n",
      "6     0.666667  0.888889   -0.0625        0.75  \n",
      "7     0.666667  0.888889   -0.0625        0.75  \n",
      "8     1.000000  1.333333    0.1250         inf  \n",
      "9     0.666667  0.888889   -0.0625        0.75  \n",
      "10    1.000000  1.333333    0.1250         inf  \n",
      "11    0.666667  1.333333    0.1250        1.50  \n",
      "12    0.666667  0.888889   -0.0625        0.75  \n",
      "13    0.666667  1.333333    0.1250        1.50  \n"
     ]
    }
   ],
   "source": [
    "print(rules)"
   ]
  },
  {
   "cell_type": "code",
   "execution_count": null,
   "id": "0394ad64",
   "metadata": {},
   "outputs": [],
   "source": []
  }
 ],
 "metadata": {
  "kernelspec": {
   "display_name": "Python 3",
   "language": "python",
   "name": "python3"
  },
  "language_info": {
   "codemirror_mode": {
    "name": "ipython",
    "version": 3
   },
   "file_extension": ".py",
   "mimetype": "text/x-python",
   "name": "python",
   "nbconvert_exporter": "python",
   "pygments_lexer": "ipython3",
   "version": "3.8.8"
  }
 },
 "nbformat": 4,
 "nbformat_minor": 5
}
