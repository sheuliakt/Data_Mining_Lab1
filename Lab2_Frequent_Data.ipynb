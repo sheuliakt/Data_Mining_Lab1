{
 "cells": [
  {
   "cell_type": "code",
   "execution_count": 1,
   "id": "686a9994",
   "metadata": {},
   "outputs": [],
   "source": [
    "dataset=[['milk','bread','cereal'],\n",
    "        ['milk','bread'],\n",
    "        ['eggs','suger','milk'],\n",
    "        ['coffee','suger'],\n",
    "        ['onion','coffee','carrot','icecream']]\n"
   ]
  },
  {
   "cell_type": "code",
   "execution_count": 2,
   "id": "2758b9f4",
   "metadata": {},
   "outputs": [
    {
     "name": "stdout",
     "output_type": "stream",
     "text": [
      "Requirement already satisfied: mlxtend in c:\\programdata\\anaconda3\\lib\\site-packages (0.18.0)\n",
      "Requirement already satisfied: pandas>=0.24.2 in c:\\programdata\\anaconda3\\lib\\site-packages (from mlxtend) (1.2.4)\n",
      "Requirement already satisfied: scikit-learn>=0.20.3 in c:\\programdata\\anaconda3\\lib\\site-packages (from mlxtend) (0.24.1)\n",
      "Requirement already satisfied: matplotlib>=3.0.0 in c:\\programdata\\anaconda3\\lib\\site-packages (from mlxtend) (3.3.4)\n",
      "Requirement already satisfied: scipy>=1.2.1 in c:\\programdata\\anaconda3\\lib\\site-packages (from mlxtend) (1.6.2)\n",
      "Requirement already satisfied: setuptools in c:\\programdata\\anaconda3\\lib\\site-packages (from mlxtend) (52.0.0.post20210125)Note: you may need to restart the kernel to use updated packages.\n",
      "\n",
      "Requirement already satisfied: joblib>=0.13.2 in c:\\programdata\\anaconda3\\lib\\site-packages (from mlxtend) (1.0.1)\n",
      "Requirement already satisfied: numpy>=1.16.2 in c:\\programdata\\anaconda3\\lib\\site-packages (from mlxtend) (1.20.1)\n",
      "Requirement already satisfied: pyparsing!=2.0.4,!=2.1.2,!=2.1.6,>=2.0.3 in c:\\programdata\\anaconda3\\lib\\site-packages (from matplotlib>=3.0.0->mlxtend) (2.4.7)\n",
      "Requirement already satisfied: cycler>=0.10 in c:\\programdata\\anaconda3\\lib\\site-packages (from matplotlib>=3.0.0->mlxtend) (0.10.0)\n",
      "Requirement already satisfied: pillow>=6.2.0 in c:\\programdata\\anaconda3\\lib\\site-packages (from matplotlib>=3.0.0->mlxtend) (8.2.0)\n",
      "Requirement already satisfied: kiwisolver>=1.0.1 in c:\\programdata\\anaconda3\\lib\\site-packages (from matplotlib>=3.0.0->mlxtend) (1.3.1)\n",
      "Requirement already satisfied: python-dateutil>=2.1 in c:\\programdata\\anaconda3\\lib\\site-packages (from matplotlib>=3.0.0->mlxtend) (2.8.1)\n",
      "Requirement already satisfied: six in c:\\users\\nure-jannat\\appdata\\roaming\\python\\python38\\site-packages (from cycler>=0.10->matplotlib>=3.0.0->mlxtend) (1.15.0)\n",
      "Requirement already satisfied: pytz>=2017.3 in c:\\programdata\\anaconda3\\lib\\site-packages (from pandas>=0.24.2->mlxtend) (2021.1)\n",
      "Requirement already satisfied: threadpoolctl>=2.0.0 in c:\\programdata\\anaconda3\\lib\\site-packages (from scikit-learn>=0.20.3->mlxtend) (2.1.0)\n"
     ]
    }
   ],
   "source": [
    "pip install mlxtend"
   ]
  },
  {
   "cell_type": "code",
   "execution_count": 3,
   "id": "7c8deb08",
   "metadata": {},
   "outputs": [],
   "source": [
    "from mlxtend.preprocessing import TransactionEncoder"
   ]
  },
  {
   "cell_type": "code",
   "execution_count": 4,
   "id": "0142dd3e",
   "metadata": {},
   "outputs": [],
   "source": [
    "encoder = TransactionEncoder().fit(dataset)"
   ]
  },
  {
   "cell_type": "code",
   "execution_count": 5,
   "id": "11053935",
   "metadata": {},
   "outputs": [],
   "source": [
    "onehot =encoder.transform(dataset)"
   ]
  },
  {
   "cell_type": "code",
   "execution_count": 6,
   "id": "7db07375",
   "metadata": {},
   "outputs": [],
   "source": [
    "import pandas as pd"
   ]
  },
  {
   "cell_type": "code",
   "execution_count": 7,
   "id": "ffd40518",
   "metadata": {},
   "outputs": [],
   "source": [
    "onehot=pd.DataFrame(onehot,columns=encoder.columns_)"
   ]
  },
  {
   "cell_type": "code",
   "execution_count": 8,
   "id": "a35782ce",
   "metadata": {},
   "outputs": [
    {
     "data": {
      "text/html": [
       "<div>\n",
       "<style scoped>\n",
       "    .dataframe tbody tr th:only-of-type {\n",
       "        vertical-align: middle;\n",
       "    }\n",
       "\n",
       "    .dataframe tbody tr th {\n",
       "        vertical-align: top;\n",
       "    }\n",
       "\n",
       "    .dataframe thead th {\n",
       "        text-align: right;\n",
       "    }\n",
       "</style>\n",
       "<table border=\"1\" class=\"dataframe\">\n",
       "  <thead>\n",
       "    <tr style=\"text-align: right;\">\n",
       "      <th></th>\n",
       "      <th>bread</th>\n",
       "      <th>carrot</th>\n",
       "      <th>cereal</th>\n",
       "      <th>coffee</th>\n",
       "      <th>eggs</th>\n",
       "      <th>icecream</th>\n",
       "      <th>milk</th>\n",
       "      <th>onion</th>\n",
       "      <th>suger</th>\n",
       "    </tr>\n",
       "  </thead>\n",
       "  <tbody>\n",
       "    <tr>\n",
       "      <th>0</th>\n",
       "      <td>True</td>\n",
       "      <td>False</td>\n",
       "      <td>True</td>\n",
       "      <td>False</td>\n",
       "      <td>False</td>\n",
       "      <td>False</td>\n",
       "      <td>True</td>\n",
       "      <td>False</td>\n",
       "      <td>False</td>\n",
       "    </tr>\n",
       "    <tr>\n",
       "      <th>1</th>\n",
       "      <td>True</td>\n",
       "      <td>False</td>\n",
       "      <td>False</td>\n",
       "      <td>False</td>\n",
       "      <td>False</td>\n",
       "      <td>False</td>\n",
       "      <td>True</td>\n",
       "      <td>False</td>\n",
       "      <td>False</td>\n",
       "    </tr>\n",
       "    <tr>\n",
       "      <th>2</th>\n",
       "      <td>False</td>\n",
       "      <td>False</td>\n",
       "      <td>False</td>\n",
       "      <td>False</td>\n",
       "      <td>True</td>\n",
       "      <td>False</td>\n",
       "      <td>True</td>\n",
       "      <td>False</td>\n",
       "      <td>True</td>\n",
       "    </tr>\n",
       "    <tr>\n",
       "      <th>3</th>\n",
       "      <td>False</td>\n",
       "      <td>False</td>\n",
       "      <td>False</td>\n",
       "      <td>True</td>\n",
       "      <td>False</td>\n",
       "      <td>False</td>\n",
       "      <td>False</td>\n",
       "      <td>False</td>\n",
       "      <td>True</td>\n",
       "    </tr>\n",
       "    <tr>\n",
       "      <th>4</th>\n",
       "      <td>False</td>\n",
       "      <td>True</td>\n",
       "      <td>False</td>\n",
       "      <td>True</td>\n",
       "      <td>False</td>\n",
       "      <td>True</td>\n",
       "      <td>False</td>\n",
       "      <td>True</td>\n",
       "      <td>False</td>\n",
       "    </tr>\n",
       "  </tbody>\n",
       "</table>\n",
       "</div>"
      ],
      "text/plain": [
       "   bread  carrot  cereal  coffee   eggs  icecream   milk  onion  suger\n",
       "0   True   False    True   False  False     False   True  False  False\n",
       "1   True   False   False   False  False     False   True  False  False\n",
       "2  False   False   False   False   True     False   True  False   True\n",
       "3  False   False   False    True  False     False  False  False   True\n",
       "4  False    True   False    True  False      True  False   True  False"
      ]
     },
     "execution_count": 8,
     "metadata": {},
     "output_type": "execute_result"
    }
   ],
   "source": [
    "onehot"
   ]
  },
  {
   "cell_type": "code",
   "execution_count": 9,
   "id": "571512ce",
   "metadata": {},
   "outputs": [
    {
     "name": "stdout",
     "output_type": "stream",
     "text": [
      "bread       0.4\n",
      "carrot      0.2\n",
      "cereal      0.2\n",
      "coffee      0.4\n",
      "eggs        0.2\n",
      "icecream    0.2\n",
      "milk        0.6\n",
      "onion       0.2\n",
      "suger       0.4\n",
      "dtype: float64\n"
     ]
    }
   ],
   "source": [
    "print(onehot.mean())"
   ]
  },
  {
   "cell_type": "code",
   "execution_count": 10,
   "id": "679a5b19",
   "metadata": {},
   "outputs": [
    {
     "name": "stdout",
     "output_type": "stream",
     "text": [
      "0.4\n"
     ]
    }
   ],
   "source": [
    "print(onehot['bread'].mean())"
   ]
  },
  {
   "cell_type": "code",
   "execution_count": 11,
   "id": "a80b446d",
   "metadata": {},
   "outputs": [],
   "source": [
    "import numpy as np"
   ]
  },
  {
   "cell_type": "code",
   "execution_count": 12,
   "id": "2fad16d8",
   "metadata": {},
   "outputs": [
    {
     "name": "stdout",
     "output_type": "stream",
     "text": [
      "bread           0.4\n",
      "carrot          0.2\n",
      "cereal          0.2\n",
      "coffee          0.4\n",
      "eggs            0.2\n",
      "icecream        0.2\n",
      "milk            0.6\n",
      "onion           0.2\n",
      "suger           0.4\n",
      "bread+carrot    0.0\n",
      "dtype: float64\n"
     ]
    }
   ],
   "source": [
    "onehot['bread+carrot']=np.logical_and(onehot['bread'],onehot['carrot'])\n",
    "print(onehot.mean())"
   ]
  },
  {
   "cell_type": "code",
   "execution_count": 13,
   "id": "053c6294",
   "metadata": {},
   "outputs": [
    {
     "name": "stdout",
     "output_type": "stream",
     "text": [
      "bread           0.4\n",
      "carrot          0.2\n",
      "cereal          0.2\n",
      "coffee          0.4\n",
      "eggs            0.2\n",
      "icecream        0.2\n",
      "milk            0.6\n",
      "onion           0.2\n",
      "suger           0.4\n",
      "bread+carrot    0.0\n",
      "bread+milk      0.4\n",
      "dtype: float64\n"
     ]
    }
   ],
   "source": [
    "onehot['bread+milk']=np.logical_and(onehot['bread'],onehot['milk'])\n",
    "print(onehot.mean())"
   ]
  },
  {
   "cell_type": "code",
   "execution_count": 14,
   "id": "3377d739",
   "metadata": {},
   "outputs": [],
   "source": [
    "supportbreadmilk=np.logical_and(onehot['bread'],onehot['milk']).mean()"
   ]
  },
  {
   "cell_type": "code",
   "execution_count": 15,
   "id": "10980354",
   "metadata": {},
   "outputs": [],
   "source": [
    "supportbread=onehot['bread'].mean()"
   ]
  },
  {
   "cell_type": "code",
   "execution_count": 16,
   "id": "fb83b094",
   "metadata": {},
   "outputs": [],
   "source": [
    "confidence = supportbreadmilk/supportbread"
   ]
  },
  {
   "cell_type": "code",
   "execution_count": 17,
   "id": "b61b8c72",
   "metadata": {},
   "outputs": [
    {
     "name": "stdout",
     "output_type": "stream",
     "text": [
      "1.0\n"
     ]
    }
   ],
   "source": [
    "print(confidence)"
   ]
  },
  {
   "cell_type": "code",
   "execution_count": 18,
   "id": "1a98b31a",
   "metadata": {},
   "outputs": [],
   "source": [
    "supportmilk=onehot['milk'].mean()"
   ]
  },
  {
   "cell_type": "code",
   "execution_count": 19,
   "id": "77a2e84d",
   "metadata": {},
   "outputs": [],
   "source": [
    "lift=supportbreadmilk/(supportbread*supportmilk)"
   ]
  },
  {
   "cell_type": "code",
   "execution_count": 20,
   "id": "8490d7fc",
   "metadata": {},
   "outputs": [
    {
     "name": "stdout",
     "output_type": "stream",
     "text": [
      "1.6666666666666667\n"
     ]
    }
   ],
   "source": [
    "print(lift)"
   ]
  },
  {
   "cell_type": "code",
   "execution_count": 21,
   "id": "549bd39a",
   "metadata": {},
   "outputs": [],
   "source": [
    "from mlxtend.frequent_patterns import apriori"
   ]
  },
  {
   "cell_type": "code",
   "execution_count": 22,
   "id": "567f8b39",
   "metadata": {},
   "outputs": [],
   "source": [
    "frequent_itemset=apriori(onehot,min_support=0.3,max_len=4,use_colnames=True)"
   ]
  },
  {
   "cell_type": "code",
   "execution_count": 23,
   "id": "bacb8ef5",
   "metadata": {},
   "outputs": [
    {
     "name": "stdout",
     "output_type": "stream",
     "text": [
      "   support                   itemsets\n",
      "0      0.4                    (bread)\n",
      "1      0.4                   (coffee)\n",
      "2      0.6                     (milk)\n",
      "3      0.4                    (suger)\n",
      "4      0.4               (bread+milk)\n",
      "5      0.4              (bread, milk)\n",
      "6      0.4        (bread, bread+milk)\n",
      "7      0.4         (bread+milk, milk)\n",
      "8      0.4  (milk, bread, bread+milk)\n"
     ]
    }
   ],
   "source": [
    "print(frequent_itemset)"
   ]
  },
  {
   "cell_type": "code",
   "execution_count": 24,
   "id": "a443a520",
   "metadata": {},
   "outputs": [],
   "source": [
    "from mlxtend.frequent_patterns import association_rules"
   ]
  },
  {
   "cell_type": "code",
   "execution_count": 25,
   "id": "bbdf6e75",
   "metadata": {},
   "outputs": [],
   "source": [
    "rules=association_rules(frequent_itemset,metric=\"support\",min_threshold=0)"
   ]
  },
  {
   "cell_type": "code",
   "execution_count": 26,
   "id": "a41c9a21",
   "metadata": {},
   "outputs": [
    {
     "name": "stdout",
     "output_type": "stream",
     "text": [
      "            antecedents          consequents  antecedent support  \\\n",
      "0               (bread)               (milk)                 0.4   \n",
      "1                (milk)              (bread)                 0.6   \n",
      "2               (bread)         (bread+milk)                 0.4   \n",
      "3          (bread+milk)              (bread)                 0.4   \n",
      "4          (bread+milk)               (milk)                 0.4   \n",
      "5                (milk)         (bread+milk)                 0.6   \n",
      "6         (bread, milk)         (bread+milk)                 0.4   \n",
      "7    (bread+milk, milk)              (bread)                 0.4   \n",
      "8   (bread, bread+milk)               (milk)                 0.4   \n",
      "9                (milk)  (bread, bread+milk)                 0.6   \n",
      "10              (bread)   (bread+milk, milk)                 0.4   \n",
      "11         (bread+milk)        (bread, milk)                 0.4   \n",
      "\n",
      "    consequent support  support  confidence      lift  leverage  conviction  \n",
      "0                  0.6      0.4    1.000000  1.666667      0.16         inf  \n",
      "1                  0.4      0.4    0.666667  1.666667      0.16         1.8  \n",
      "2                  0.4      0.4    1.000000  2.500000      0.24         inf  \n",
      "3                  0.4      0.4    1.000000  2.500000      0.24         inf  \n",
      "4                  0.6      0.4    1.000000  1.666667      0.16         inf  \n",
      "5                  0.4      0.4    0.666667  1.666667      0.16         1.8  \n",
      "6                  0.4      0.4    1.000000  2.500000      0.24         inf  \n",
      "7                  0.4      0.4    1.000000  2.500000      0.24         inf  \n",
      "8                  0.6      0.4    1.000000  1.666667      0.16         inf  \n",
      "9                  0.4      0.4    0.666667  1.666667      0.16         1.8  \n",
      "10                 0.4      0.4    1.000000  2.500000      0.24         inf  \n",
      "11                 0.4      0.4    1.000000  2.500000      0.24         inf  \n"
     ]
    }
   ],
   "source": [
    "print(rules)"
   ]
  },
  {
   "cell_type": "code",
   "execution_count": null,
   "id": "4a10dce7",
   "metadata": {},
   "outputs": [],
   "source": []
  }
 ],
 "metadata": {
  "kernelspec": {
   "display_name": "Python 3",
   "language": "python",
   "name": "python3"
  },
  "language_info": {
   "codemirror_mode": {
    "name": "ipython",
    "version": 3
   },
   "file_extension": ".py",
   "mimetype": "text/x-python",
   "name": "python",
   "nbconvert_exporter": "python",
   "pygments_lexer": "ipython3",
   "version": "3.8.8"
  }
 },
 "nbformat": 4,
 "nbformat_minor": 5
}
