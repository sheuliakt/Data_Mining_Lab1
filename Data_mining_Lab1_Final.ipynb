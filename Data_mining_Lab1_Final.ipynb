{
 "cells": [
  {
   "cell_type": "code",
   "execution_count": 112,
   "id": "bf5801c5",
   "metadata": {},
   "outputs": [],
   "source": [
    "import pandas as pd"
   ]
  },
  {
   "cell_type": "code",
   "execution_count": 113,
   "id": "7244d992",
   "metadata": {},
   "outputs": [],
   "source": [
    "df=pd.read_csv(\"dataset_review.csv\")\n"
   ]
  },
  {
   "cell_type": "code",
   "execution_count": 114,
   "id": "4a22ca12",
   "metadata": {},
   "outputs": [
    {
     "data": {
      "text/html": [
       "<div>\n",
       "<style scoped>\n",
       "    .dataframe tbody tr th:only-of-type {\n",
       "        vertical-align: middle;\n",
       "    }\n",
       "\n",
       "    .dataframe tbody tr th {\n",
       "        vertical-align: top;\n",
       "    }\n",
       "\n",
       "    .dataframe thead th {\n",
       "        text-align: right;\n",
       "    }\n",
       "</style>\n",
       "<table border=\"1\" class=\"dataframe\">\n",
       "  <thead>\n",
       "    <tr style=\"text-align: right;\">\n",
       "      <th></th>\n",
       "      <th>Book</th>\n",
       "      <th>p1</th>\n",
       "      <th>p2</th>\n",
       "      <th>p3</th>\n",
       "      <th>p4</th>\n",
       "      <th>p5</th>\n",
       "      <th>p6</th>\n",
       "      <th>p7</th>\n",
       "      <th>p8</th>\n",
       "    </tr>\n",
       "  </thead>\n",
       "  <tbody>\n",
       "    <tr>\n",
       "      <th>0</th>\n",
       "      <td>book1</td>\n",
       "      <td>3.5</td>\n",
       "      <td>2</td>\n",
       "      <td>5</td>\n",
       "      <td>3</td>\n",
       "      <td>-</td>\n",
       "      <td>-</td>\n",
       "      <td>5</td>\n",
       "      <td>3</td>\n",
       "    </tr>\n",
       "    <tr>\n",
       "      <th>1</th>\n",
       "      <td>book2</td>\n",
       "      <td>2</td>\n",
       "      <td>3.5</td>\n",
       "      <td>1</td>\n",
       "      <td>4</td>\n",
       "      <td>4</td>\n",
       "      <td>4.5</td>\n",
       "      <td>2</td>\n",
       "      <td>-</td>\n",
       "    </tr>\n",
       "    <tr>\n",
       "      <th>2</th>\n",
       "      <td>book3</td>\n",
       "      <td>-</td>\n",
       "      <td>4</td>\n",
       "      <td>1</td>\n",
       "      <td>4.5</td>\n",
       "      <td>1</td>\n",
       "      <td>4</td>\n",
       "      <td>-</td>\n",
       "      <td>-</td>\n",
       "    </tr>\n",
       "    <tr>\n",
       "      <th>3</th>\n",
       "      <td>book4</td>\n",
       "      <td>4.5</td>\n",
       "      <td>-</td>\n",
       "      <td>3</td>\n",
       "      <td>-</td>\n",
       "      <td>4</td>\n",
       "      <td>5</td>\n",
       "      <td>3</td>\n",
       "      <td>5</td>\n",
       "    </tr>\n",
       "  </tbody>\n",
       "</table>\n",
       "</div>"
      ],
      "text/plain": [
       "    Book   p1   p2 p3   p4 p5   p6 p7 p8\n",
       "0  book1  3.5    2  5    3  -    -  5  3\n",
       "1  book2    2  3.5  1    4  4  4.5  2  -\n",
       "2  book3    -    4  1  4.5  1    4  -  -\n",
       "3  book4  4.5    -  3    -  4    5  3  5"
      ]
     },
     "execution_count": 114,
     "metadata": {},
     "output_type": "execute_result"
    }
   ],
   "source": [
    "df.head(4)\n"
   ]
  },
  {
   "cell_type": "code",
   "execution_count": 115,
   "id": "7f2f66c7",
   "metadata": {},
   "outputs": [
    {
     "data": {
      "text/html": [
       "<div>\n",
       "<style scoped>\n",
       "    .dataframe tbody tr th:only-of-type {\n",
       "        vertical-align: middle;\n",
       "    }\n",
       "\n",
       "    .dataframe tbody tr th {\n",
       "        vertical-align: top;\n",
       "    }\n",
       "\n",
       "    .dataframe thead th {\n",
       "        text-align: right;\n",
       "    }\n",
       "</style>\n",
       "<table border=\"1\" class=\"dataframe\">\n",
       "  <thead>\n",
       "    <tr style=\"text-align: right;\">\n",
       "      <th></th>\n",
       "      <th>Book</th>\n",
       "      <th>p1</th>\n",
       "      <th>p2</th>\n",
       "      <th>p3</th>\n",
       "      <th>p4</th>\n",
       "      <th>p5</th>\n",
       "      <th>p6</th>\n",
       "      <th>p7</th>\n",
       "      <th>p8</th>\n",
       "    </tr>\n",
       "  </thead>\n",
       "  <tbody>\n",
       "    <tr>\n",
       "      <th>6</th>\n",
       "      <td>book7</td>\n",
       "      <td>2.5</td>\n",
       "      <td>-</td>\n",
       "      <td>-</td>\n",
       "      <td>4</td>\n",
       "      <td>4</td>\n",
       "      <td>4</td>\n",
       "      <td>5</td>\n",
       "      <td>3</td>\n",
       "    </tr>\n",
       "    <tr>\n",
       "      <th>7</th>\n",
       "      <td>book8</td>\n",
       "      <td>2</td>\n",
       "      <td>3</td>\n",
       "      <td>-</td>\n",
       "      <td>2</td>\n",
       "      <td>1</td>\n",
       "      <td>4</td>\n",
       "      <td>-</td>\n",
       "      <td>-</td>\n",
       "    </tr>\n",
       "  </tbody>\n",
       "</table>\n",
       "</div>"
      ],
      "text/plain": [
       "    Book   p1 p2 p3 p4 p5 p6 p7 p8\n",
       "6  book7  2.5  -  -  4  4  4  5  3\n",
       "7  book8    2  3  -  2  1  4  -  -"
      ]
     },
     "execution_count": 115,
     "metadata": {},
     "output_type": "execute_result"
    }
   ],
   "source": [
    "df.tail(2)\n"
   ]
  },
  {
   "cell_type": "code",
   "execution_count": 116,
   "id": "df94566b",
   "metadata": {},
   "outputs": [
    {
     "data": {
      "text/html": [
       "<div>\n",
       "<style scoped>\n",
       "    .dataframe tbody tr th:only-of-type {\n",
       "        vertical-align: middle;\n",
       "    }\n",
       "\n",
       "    .dataframe tbody tr th {\n",
       "        vertical-align: top;\n",
       "    }\n",
       "\n",
       "    .dataframe thead th {\n",
       "        text-align: right;\n",
       "    }\n",
       "</style>\n",
       "<table border=\"1\" class=\"dataframe\">\n",
       "  <thead>\n",
       "    <tr style=\"text-align: right;\">\n",
       "      <th></th>\n",
       "      <th>Book</th>\n",
       "      <th>p1</th>\n",
       "      <th>p2</th>\n",
       "      <th>p3</th>\n",
       "      <th>p4</th>\n",
       "      <th>p5</th>\n",
       "      <th>p6</th>\n",
       "      <th>p7</th>\n",
       "      <th>p8</th>\n",
       "    </tr>\n",
       "  </thead>\n",
       "  <tbody>\n",
       "    <tr>\n",
       "      <th>3</th>\n",
       "      <td>book4</td>\n",
       "      <td>4.5</td>\n",
       "      <td>-</td>\n",
       "      <td>3</td>\n",
       "      <td>-</td>\n",
       "      <td>4</td>\n",
       "      <td>5</td>\n",
       "      <td>3</td>\n",
       "      <td>5</td>\n",
       "    </tr>\n",
       "    <tr>\n",
       "      <th>4</th>\n",
       "      <td>book5</td>\n",
       "      <td>5</td>\n",
       "      <td>2</td>\n",
       "      <td>5</td>\n",
       "      <td>3</td>\n",
       "      <td>-</td>\n",
       "      <td>5</td>\n",
       "      <td>5</td>\n",
       "      <td>4</td>\n",
       "    </tr>\n",
       "    <tr>\n",
       "      <th>5</th>\n",
       "      <td>book6</td>\n",
       "      <td>1.5</td>\n",
       "      <td>3.5</td>\n",
       "      <td>1</td>\n",
       "      <td>4.5</td>\n",
       "      <td>-</td>\n",
       "      <td>4.5</td>\n",
       "      <td>4</td>\n",
       "      <td>2.5</td>\n",
       "    </tr>\n",
       "    <tr>\n",
       "      <th>6</th>\n",
       "      <td>book7</td>\n",
       "      <td>2.5</td>\n",
       "      <td>-</td>\n",
       "      <td>-</td>\n",
       "      <td>4</td>\n",
       "      <td>4</td>\n",
       "      <td>4</td>\n",
       "      <td>5</td>\n",
       "      <td>3</td>\n",
       "    </tr>\n",
       "    <tr>\n",
       "      <th>7</th>\n",
       "      <td>book8</td>\n",
       "      <td>2</td>\n",
       "      <td>3</td>\n",
       "      <td>-</td>\n",
       "      <td>2</td>\n",
       "      <td>1</td>\n",
       "      <td>4</td>\n",
       "      <td>-</td>\n",
       "      <td>-</td>\n",
       "    </tr>\n",
       "  </tbody>\n",
       "</table>\n",
       "</div>"
      ],
      "text/plain": [
       "    Book   p1   p2 p3   p4 p5   p6 p7   p8\n",
       "3  book4  4.5    -  3    -  4    5  3    5\n",
       "4  book5    5    2  5    3  -    5  5    4\n",
       "5  book6  1.5  3.5  1  4.5  -  4.5  4  2.5\n",
       "6  book7  2.5    -  -    4  4    4  5    3\n",
       "7  book8    2    3  -    2  1    4  -    -"
      ]
     },
     "execution_count": 116,
     "metadata": {},
     "output_type": "execute_result"
    }
   ],
   "source": [
    "df.tail(5)"
   ]
  },
  {
   "cell_type": "code",
   "execution_count": 117,
   "id": "b0a73491",
   "metadata": {},
   "outputs": [
    {
     "name": "stdout",
     "output_type": "stream",
     "text": [
      "Index(['Book', 'p1', 'p2', 'p3', 'p4', 'p5', 'p6', 'p7', 'p8'], dtype='object')\n"
     ]
    }
   ],
   "source": [
    "print(df.columns)"
   ]
  },
  {
   "cell_type": "code",
   "execution_count": 118,
   "id": "dcea16b8",
   "metadata": {},
   "outputs": [
    {
     "name": "stdout",
     "output_type": "stream",
     "text": [
      "Book    object\n",
      "p1      object\n",
      "p2      object\n",
      "p3      object\n",
      "p4      object\n",
      "p5      object\n",
      "p6      object\n",
      "p7      object\n",
      "p8      object\n",
      "dtype: object\n"
     ]
    }
   ],
   "source": [
    "print(df.dtypes)"
   ]
  },
  {
   "cell_type": "code",
   "execution_count": 119,
   "id": "bf1a1f71",
   "metadata": {},
   "outputs": [
    {
     "name": "stdout",
     "output_type": "stream",
     "text": [
      "    Book   p1   p2 p3   p4 p5   p6 p7   p8\n",
      "0  book1  3.5    2  5    3  -    -  5    3\n",
      "1  book2    2  3.5  1    4  4  4.5  2    -\n",
      "2  book3    -    4  1  4.5  1    4  -    -\n",
      "3  book4  4.5    -  3    -  4    5  3    5\n",
      "4  book5    5    2  5    3  -    5  5    4\n",
      "5  book6  1.5  3.5  1  4.5  -  4.5  4  2.5\n",
      "6  book7  2.5    -  -    4  4    4  5    3\n",
      "7  book8    2    3  -    2  1    4  -    -\n"
     ]
    }
   ],
   "source": [
    "print(df)"
   ]
  },
  {
   "cell_type": "code",
   "execution_count": 120,
   "id": "7680fd2e",
   "metadata": {},
   "outputs": [],
   "source": [
    "df_subset=df.replace('-',float(\"Nan\"))"
   ]
  },
  {
   "cell_type": "code",
   "execution_count": 121,
   "id": "8d3e070e",
   "metadata": {},
   "outputs": [
    {
     "name": "stdout",
     "output_type": "stream",
     "text": [
      "    Book   p1   p2   p3   p4   p5   p6   p7   p8\n",
      "0  book1  3.5    2    5    3  NaN  NaN    5    3\n",
      "1  book2    2  3.5    1    4    4  4.5    2  NaN\n",
      "2  book3  NaN    4    1  4.5    1    4  NaN  NaN\n",
      "3  book4  4.5  NaN    3  NaN    4    5    3    5\n",
      "4  book5    5    2    5    3  NaN    5    5    4\n",
      "5  book6  1.5  3.5    1  4.5  NaN  4.5    4  2.5\n",
      "6  book7  2.5  NaN  NaN    4    4    4    5    3\n",
      "7  book8    2    3  NaN    2    1    4  NaN  NaN\n"
     ]
    }
   ],
   "source": [
    "print(df_subset)"
   ]
  },
  {
   "cell_type": "code",
   "execution_count": 122,
   "id": "bc5742ad",
   "metadata": {},
   "outputs": [],
   "source": [
    "#print(df_subset.dropna())"
   ]
  },
  {
   "cell_type": "code",
   "execution_count": 123,
   "id": "2d6a0f01",
   "metadata": {},
   "outputs": [],
   "source": [
    "df2=df_subset[df_subset[\"p1\"].notnull()]"
   ]
  },
  {
   "cell_type": "code",
   "execution_count": 124,
   "id": "d6c68cdb",
   "metadata": {},
   "outputs": [
    {
     "name": "stdout",
     "output_type": "stream",
     "text": [
      "    Book   p1   p2   p3   p4   p5   p6   p7   p8\n",
      "0  book1  3.5    2    5    3  NaN  NaN    5    3\n",
      "1  book2    2  3.5    1    4    4  4.5    2  NaN\n",
      "3  book4  4.5  NaN    3  NaN    4    5    3    5\n",
      "4  book5    5    2    5    3  NaN    5    5    4\n",
      "5  book6  1.5  3.5    1  4.5  NaN  4.5    4  2.5\n",
      "6  book7  2.5  NaN  NaN    4    4    4    5    3\n",
      "7  book8    2    3  NaN    2    1    4  NaN  NaN\n"
     ]
    }
   ],
   "source": [
    "print(df2)"
   ]
  },
  {
   "cell_type": "code",
   "execution_count": 125,
   "id": "6c084e70",
   "metadata": {},
   "outputs": [],
   "source": [
    "df2=df_subset[df_subset[\"p2\"].notnull()]"
   ]
  },
  {
   "cell_type": "code",
   "execution_count": 126,
   "id": "21d28a4e",
   "metadata": {},
   "outputs": [
    {
     "name": "stdout",
     "output_type": "stream",
     "text": [
      "    Book   p1   p2   p3   p4   p5   p6   p7   p8\n",
      "0  book1  3.5    2    5    3  NaN  NaN    5    3\n",
      "1  book2    2  3.5    1    4    4  4.5    2  NaN\n",
      "2  book3  NaN    4    1  4.5    1    4  NaN  NaN\n",
      "4  book5    5    2    5    3  NaN    5    5    4\n",
      "5  book6  1.5  3.5    1  4.5  NaN  4.5    4  2.5\n",
      "7  book8    2    3  NaN    2    1    4  NaN  NaN\n"
     ]
    }
   ],
   "source": [
    "print(df2)"
   ]
  },
  {
   "cell_type": "code",
   "execution_count": 127,
   "id": "cc954818",
   "metadata": {},
   "outputs": [],
   "source": [
    "df2=df2[df2[\"p2\"].notnull()]"
   ]
  },
  {
   "cell_type": "code",
   "execution_count": 128,
   "id": "5fdb98cc",
   "metadata": {},
   "outputs": [
    {
     "name": "stdout",
     "output_type": "stream",
     "text": [
      "    Book   p1   p2   p3   p4   p5   p6   p7   p8\n",
      "0  book1  3.5    2    5    3  NaN  NaN    5    3\n",
      "1  book2    2  3.5    1    4    4  4.5    2  NaN\n",
      "2  book3  NaN    4    1  4.5    1    4  NaN  NaN\n",
      "4  book5    5    2    5    3  NaN    5    5    4\n",
      "5  book6  1.5  3.5    1  4.5  NaN  4.5    4  2.5\n",
      "7  book8    2    3  NaN    2    1    4  NaN  NaN\n"
     ]
    }
   ],
   "source": [
    "print(df2)"
   ]
  },
  {
   "cell_type": "code",
   "execution_count": 129,
   "id": "d8cc4ec2",
   "metadata": {},
   "outputs": [],
   "source": [
    "df2=df2[df2[\"p1\"].notnull()]"
   ]
  },
  {
   "cell_type": "code",
   "execution_count": 130,
   "id": "7f7547d0",
   "metadata": {},
   "outputs": [
    {
     "name": "stdout",
     "output_type": "stream",
     "text": [
      "    Book   p1   p2   p3   p4   p5   p6   p7   p8\n",
      "0  book1  3.5    2    5    3  NaN  NaN    5    3\n",
      "1  book2    2  3.5    1    4    4  4.5    2  NaN\n",
      "4  book5    5    2    5    3  NaN    5    5    4\n",
      "5  book6  1.5  3.5    1  4.5  NaN  4.5    4  2.5\n",
      "7  book8    2    3  NaN    2    1    4  NaN  NaN\n"
     ]
    }
   ],
   "source": [
    "print(df2)"
   ]
  },
  {
   "cell_type": "code",
   "execution_count": 131,
   "id": "362a7975",
   "metadata": {},
   "outputs": [
    {
     "name": "stdout",
     "output_type": "stream",
     "text": [
      "3\n"
     ]
    }
   ],
   "source": [
    "print(df2[\"p5\"].isnull().sum())"
   ]
  },
  {
   "cell_type": "code",
   "execution_count": 132,
   "id": "c1bd9116",
   "metadata": {},
   "outputs": [
    {
     "name": "stdout",
     "output_type": "stream",
     "text": [
      "1\n"
     ]
    }
   ],
   "source": [
    "print(df2[\"p7\"].isnull().sum())"
   ]
  },
  {
   "cell_type": "code",
   "execution_count": 133,
   "id": "cefd50a2",
   "metadata": {},
   "outputs": [],
   "source": [
    "df2=df2.drop([\"p7\",\"p8\"],axis=1)"
   ]
  },
  {
   "cell_type": "code",
   "execution_count": 134,
   "id": "c89bee30",
   "metadata": {},
   "outputs": [
    {
     "name": "stdout",
     "output_type": "stream",
     "text": [
      "    Book   p1   p2   p3   p4   p5   p6\n",
      "0  book1  3.5    2    5    3  NaN  NaN\n",
      "1  book2    2  3.5    1    4    4  4.5\n",
      "4  book5    5    2    5    3  NaN    5\n",
      "5  book6  1.5  3.5    1  4.5  NaN  4.5\n",
      "7  book8    2    3  NaN    2    1    4\n"
     ]
    }
   ],
   "source": [
    "print(df2)"
   ]
  },
  {
   "cell_type": "code",
   "execution_count": 135,
   "id": "d8b1dac9",
   "metadata": {},
   "outputs": [
    {
     "name": "stdout",
     "output_type": "stream",
     "text": [
      "Requirement already satisfied: matplotlib in c:\\programdata\\anaconda3\\lib\\site-packages (3.3.4)\n",
      "Requirement already satisfied: cycler>=0.10 in c:\\programdata\\anaconda3\\lib\\site-packages (from matplotlib) (0.10.0)\n",
      "Requirement already satisfied: pyparsing!=2.0.4,!=2.1.2,!=2.1.6,>=2.0.3 in c:\\programdata\\anaconda3\\lib\\site-packages (from matplotlib) (2.4.7)\n",
      "Requirement already satisfied: kiwisolver>=1.0.1 in c:\\programdata\\anaconda3\\lib\\site-packages (from matplotlib) (1.3.1)\n",
      "Requirement already satisfied: numpy>=1.15 in c:\\programdata\\anaconda3\\lib\\site-packages (from matplotlib) (1.20.1)\n",
      "Requirement already satisfied: pillow>=6.2.0 in c:\\programdata\\anaconda3\\lib\\site-packages (from matplotlib) (8.2.0)\n",
      "Requirement already satisfied: python-dateutil>=2.1 in c:\\programdata\\anaconda3\\lib\\site-packages (from matplotlib) (2.8.1)\n",
      "Requirement already satisfied: six in c:\\users\\nure-jannat\\appdata\\roaming\\python\\python38\\site-packages (from cycler>=0.10->matplotlib) (1.15.0)\n",
      "Note: you may need to restart the kernel to use updated packages.\n"
     ]
    }
   ],
   "source": [
    "pip  install matplotlib"
   ]
  },
  {
   "cell_type": "code",
   "execution_count": 136,
   "id": "67c44af8",
   "metadata": {},
   "outputs": [
    {
     "data": {
      "image/png": "[encoded data removed]",
      "text/plain": [
       "<Figure size 432x288 with 1 Axes>"
      ]
     },
     "metadata": {
      "needs_background": "light"
     },
     "output_type": "display_data"
    }
   ],
   "source": [
    "import matplotlib.pyplot as plt\n",
    "\n",
    "#fig = plt.figure(figsize =(10,7))\n",
    "#creating plot\n",
    "plt.boxplot(df2['p1'].astype(float))\n",
    "#plt.boxplot(df2['p2'].astype(float))\n",
    "\n",
    "#show plot\n",
    "plt.show()"
   ]
  },
  {
   "cell_type": "code",
   "execution_count": 137,
   "id": "8514f32b",
   "metadata": {},
   "outputs": [
    {
     "data": {
      "image/png": "[encoded data removed]",
      "text/plain": [
       "<Figure size 432x288 with 1 Axes>"
      ]
     },
     "metadata": {
      "needs_background": "light"
     },
     "output_type": "display_data"
    }
   ],
   "source": [
    "import matplotlib.pyplot as plt\n",
    "#fig = plt.figure(figsize =(10,7))\n",
    "#creating plot\n",
    "#plt.boxplot(df2['p1'].astype(float))\n",
    "plt.boxplot(df2['p2'].astype(float))\n",
    "\n",
    "#show plot\n",
    "plt.show()"
   ]
  },
  {
   "cell_type": "code",
   "execution_count": 138,
   "id": "9ee61cbf",
   "metadata": {},
   "outputs": [],
   "source": [
    "from scipy.spatial import distance"
   ]
  },
  {
   "cell_type": "code",
   "execution_count": 139,
   "id": "aee179c6",
   "metadata": {},
   "outputs": [],
   "source": [
    "from scipy.spatial.distance import cityblock"
   ]
  },
  {
   "cell_type": "code",
   "execution_count": 140,
   "id": "2fe0644f",
   "metadata": {},
   "outputs": [],
   "source": [
    "manhattan_distance1=distance.cityblock(df2['p1'].astype(float),df2['p2'].astype(float))"
   ]
  },
  {
   "cell_type": "code",
   "execution_count": 141,
   "id": "17e90247",
   "metadata": {},
   "outputs": [
    {
     "name": "stdout",
     "output_type": "stream",
     "text": [
      "9.0\n"
     ]
    }
   ],
   "source": [
    "print(manhattan_distance1)"
   ]
  },
  {
   "cell_type": "code",
   "execution_count": 142,
   "id": "0b80025e",
   "metadata": {},
   "outputs": [],
   "source": [
    "euclidean_distance1=distance.euclidean(df2['p1'].astype(float),df2['p2'].astype(float))"
   ]
  },
  {
   "cell_type": "code",
   "execution_count": 143,
   "id": "31297a0c",
   "metadata": {},
   "outputs": [
    {
     "name": "stdout",
     "output_type": "stream",
     "text": [
      "4.301162633521313\n"
     ]
    }
   ],
   "source": [
    "print(euclidean_distance1)"
   ]
  },
  {
   "cell_type": "code",
   "execution_count": 144,
   "id": "ba654de6",
   "metadata": {},
   "outputs": [
    {
     "data": {
      "text/plain": [
       "9.0"
      ]
     },
     "execution_count": 144,
     "metadata": {},
     "output_type": "execute_result"
    }
   ],
   "source": [
    "minkowski_distance1=distance.minkowski(df2['p1'].astype(float),df2['p2'].astype(float),p=1)\n",
    "minkowski_distance1"
   ]
  },
  {
   "cell_type": "code",
   "execution_count": 145,
   "id": "395fbdfd",
   "metadata": {},
   "outputs": [
    {
     "data": {
      "text/plain": [
       "4.301162633521313"
      ]
     },
     "execution_count": 145,
     "metadata": {},
     "output_type": "execute_result"
    }
   ],
   "source": [
    "minkowski_distance1=distance.minkowski(df2['p1'].astype(float),df2['p2'].astype(float),p=2)\n",
    "minkowski_distance1"
   ]
  },
  {
   "cell_type": "code",
   "execution_count": 146,
   "id": "3c45b974",
   "metadata": {},
   "outputs": [
    {
     "data": {
      "text/plain": [
       "3.4965953285904336"
      ]
     },
     "execution_count": 146,
     "metadata": {},
     "output_type": "execute_result"
    }
   ],
   "source": [
    "minkowski_distance1=distance.minkowski(df2['p1'].astype(float),df2['p2'].astype(float),p=3)\n",
    "minkowski_distance1"
   ]
  },
  {
   "cell_type": "code",
   "execution_count": 147,
   "id": "0ece8671",
   "metadata": {},
   "outputs": [
    {
     "name": "stdout",
     "output_type": "stream",
     "text": [
      "    Book   p1   p2   p3   p4   p5   p6   p7   p8\n",
      "0  book1  3.5    2    5    3  NaN  NaN    5    3\n",
      "1  book2    2  3.5    1    4    4  4.5    2  NaN\n",
      "2  book3  NaN    4    1  4.5    1    4  NaN  NaN\n",
      "3  book4  4.5  NaN    3  NaN    4    5    3    5\n",
      "4  book5    5    2    5    3  NaN    5    5    4\n",
      "5  book6  1.5  3.5    1  4.5  NaN  4.5    4  2.5\n",
      "6  book7  2.5  NaN  NaN    4    4    4    5    3\n",
      "7  book8    2    3  NaN    2    1    4  NaN  NaN\n"
     ]
    }
   ],
   "source": [
    "print(df_subset)"
   ]
  },
  {
   "cell_type": "code",
   "execution_count": 148,
   "id": "9d3c2293",
   "metadata": {},
   "outputs": [],
   "source": [
    "df2=df_subset[df_subset[\"p1\"].notnull()]"
   ]
  },
  {
   "cell_type": "code",
   "execution_count": 149,
   "id": "2d2047ae",
   "metadata": {},
   "outputs": [
    {
     "name": "stdout",
     "output_type": "stream",
     "text": [
      "    Book   p1   p2   p3   p4   p5   p6   p7   p8\n",
      "0  book1  3.5    2    5    3  NaN  NaN    5    3\n",
      "1  book2    2  3.5    1    4    4  4.5    2  NaN\n",
      "3  book4  4.5  NaN    3  NaN    4    5    3    5\n",
      "4  book5    5    2    5    3  NaN    5    5    4\n",
      "5  book6  1.5  3.5    1  4.5  NaN  4.5    4  2.5\n",
      "6  book7  2.5  NaN  NaN    4    4    4    5    3\n",
      "7  book8    2    3  NaN    2    1    4  NaN  NaN\n"
     ]
    }
   ],
   "source": [
    "print(df2)"
   ]
  },
  {
   "cell_type": "code",
   "execution_count": 150,
   "id": "3a88f090",
   "metadata": {},
   "outputs": [],
   "source": [
    "df2=df2[df2[\"p3\"].notnull()]"
   ]
  },
  {
   "cell_type": "code",
   "execution_count": 151,
   "id": "5e6a6573",
   "metadata": {},
   "outputs": [
    {
     "name": "stdout",
     "output_type": "stream",
     "text": [
      "    Book   p1   p2 p3   p4   p5   p6 p7   p8\n",
      "0  book1  3.5    2  5    3  NaN  NaN  5    3\n",
      "1  book2    2  3.5  1    4    4  4.5  2  NaN\n",
      "3  book4  4.5  NaN  3  NaN    4    5  3    5\n",
      "4  book5    5    2  5    3  NaN    5  5    4\n",
      "5  book6  1.5  3.5  1  4.5  NaN  4.5  4  2.5\n"
     ]
    }
   ],
   "source": [
    "print(df2)"
   ]
  },
  {
   "cell_type": "code",
   "execution_count": 152,
   "id": "83a48eb0",
   "metadata": {},
   "outputs": [],
   "source": [
    "manhattan_distance2=distance.cityblock(df2['p1'].astype(float),df2['p3'].astype(float))"
   ]
  },
  {
   "cell_type": "code",
   "execution_count": 153,
   "id": "03a465d8",
   "metadata": {},
   "outputs": [
    {
     "name": "stdout",
     "output_type": "stream",
     "text": [
      "4.5\n"
     ]
    }
   ],
   "source": [
    "print(manhattan_distance2)"
   ]
  },
  {
   "cell_type": "code",
   "execution_count": 154,
   "id": "936d1939",
   "metadata": {},
   "outputs": [],
   "source": [
    "euclidean_distance2=distance.euclidean(df2['p1'].astype(float),df2['p3'].astype(float))"
   ]
  },
  {
   "cell_type": "code",
   "execution_count": 155,
   "id": "1eb24bf1",
   "metadata": {},
   "outputs": [
    {
     "name": "stdout",
     "output_type": "stream",
     "text": [
      "2.3979157616563596\n"
     ]
    }
   ],
   "source": [
    "print(euclidean_distance2)"
   ]
  },
  {
   "cell_type": "code",
   "execution_count": 156,
   "id": "8fd39077",
   "metadata": {},
   "outputs": [
    {
     "data": {
      "text/plain": [
       "1.9895286039481959"
      ]
     },
     "execution_count": 156,
     "metadata": {},
     "output_type": "execute_result"
    }
   ],
   "source": [
    "minkowski_distance2=distance.minkowski(df2['p1'].astype(float),df2['p3'].astype(float),p=3)\n",
    "minkowski_distance2"
   ]
  },
  {
   "cell_type": "code",
   "execution_count": 157,
   "id": "46822da7",
   "metadata": {},
   "outputs": [
    {
     "name": "stdout",
     "output_type": "stream",
     "text": [
      "    Book   p1   p2   p3   p4   p5   p6   p7   p8\n",
      "0  book1  3.5    2    5    3  NaN  NaN    5    3\n",
      "1  book2    2  3.5    1    4    4  4.5    2  NaN\n",
      "2  book3  NaN    4    1  4.5    1    4  NaN  NaN\n",
      "3  book4  4.5  NaN    3  NaN    4    5    3    5\n",
      "4  book5    5    2    5    3  NaN    5    5    4\n",
      "5  book6  1.5  3.5    1  4.5  NaN  4.5    4  2.5\n",
      "6  book7  2.5  NaN  NaN    4    4    4    5    3\n",
      "7  book8    2    3  NaN    2    1    4  NaN  NaN\n"
     ]
    }
   ],
   "source": [
    "print(df_subset)"
   ]
  },
  {
   "cell_type": "code",
   "execution_count": 158,
   "id": "fc812d0a",
   "metadata": {},
   "outputs": [],
   "source": [
    "df2=df_subset[df_subset[\"p1\"].notnull()]"
   ]
  },
  {
   "cell_type": "code",
   "execution_count": 159,
   "id": "0f0abc38",
   "metadata": {},
   "outputs": [
    {
     "name": "stdout",
     "output_type": "stream",
     "text": [
      "    Book   p1   p2   p3   p4   p5   p6   p7   p8\n",
      "0  book1  3.5    2    5    3  NaN  NaN    5    3\n",
      "1  book2    2  3.5    1    4    4  4.5    2  NaN\n",
      "3  book4  4.5  NaN    3  NaN    4    5    3    5\n",
      "4  book5    5    2    5    3  NaN    5    5    4\n",
      "5  book6  1.5  3.5    1  4.5  NaN  4.5    4  2.5\n",
      "6  book7  2.5  NaN  NaN    4    4    4    5    3\n",
      "7  book8    2    3  NaN    2    1    4  NaN  NaN\n"
     ]
    }
   ],
   "source": [
    "\n",
    "print(df2)"
   ]
  },
  {
   "cell_type": "code",
   "execution_count": 160,
   "id": "05423a96",
   "metadata": {},
   "outputs": [],
   "source": [
    "df2=df2[df2[\"p4\"].notnull()]"
   ]
  },
  {
   "cell_type": "code",
   "execution_count": 161,
   "id": "7b4afe2b",
   "metadata": {},
   "outputs": [
    {
     "name": "stdout",
     "output_type": "stream",
     "text": [
      "    Book   p1   p2   p3   p4   p5   p6   p7   p8\n",
      "0  book1  3.5    2    5    3  NaN  NaN    5    3\n",
      "1  book2    2  3.5    1    4    4  4.5    2  NaN\n",
      "4  book5    5    2    5    3  NaN    5    5    4\n",
      "5  book6  1.5  3.5    1  4.5  NaN  4.5    4  2.5\n",
      "6  book7  2.5  NaN  NaN    4    4    4    5    3\n",
      "7  book8    2    3  NaN    2    1    4  NaN  NaN\n"
     ]
    }
   ],
   "source": [
    "print(df2)"
   ]
  },
  {
   "cell_type": "code",
   "execution_count": 162,
   "id": "8a24fa0f",
   "metadata": {},
   "outputs": [],
   "source": [
    "manhattan_distance3=distance.cityblock(df2['p1'].astype(float),df2['p4'].astype(float))"
   ]
  },
  {
   "cell_type": "code",
   "execution_count": 163,
   "id": "6191e1da",
   "metadata": {},
   "outputs": [
    {
     "name": "stdout",
     "output_type": "stream",
     "text": [
      "9.0\n"
     ]
    }
   ],
   "source": [
    "print(manhattan_distance3)"
   ]
  },
  {
   "cell_type": "code",
   "execution_count": 164,
   "id": "e7ae3531",
   "metadata": {},
   "outputs": [],
   "source": [
    "euclidean_distance3=distance.euclidean(df2['p1'].astype(float),df2['p4'].astype(float))"
   ]
  },
  {
   "cell_type": "code",
   "execution_count": 165,
   "id": "fe03dd88",
   "metadata": {},
   "outputs": [
    {
     "name": "stdout",
     "output_type": "stream",
     "text": [
      "4.415880433163924\n"
     ]
    }
   ],
   "source": [
    "\n",
    "print(euclidean_distance3)"
   ]
  },
  {
   "cell_type": "code",
   "execution_count": 166,
   "id": "d62804e5",
   "metadata": {},
   "outputs": [
    {
     "data": {
      "text/plain": [
       "3.5959831740739046"
      ]
     },
     "execution_count": 166,
     "metadata": {},
     "output_type": "execute_result"
    }
   ],
   "source": [
    "minkowski_distance3=distance.minkowski(df2['p1'].astype(float),df2['p4'].astype(float),p=3)\n",
    "minkowski_distance3"
   ]
  },
  {
   "cell_type": "code",
   "execution_count": 167,
   "id": "14a1a356",
   "metadata": {},
   "outputs": [
    {
     "name": "stdout",
     "output_type": "stream",
     "text": [
      "    Book   p1   p2   p3   p4   p5   p6   p7   p8\n",
      "0  book1  3.5    2    5    3  NaN  NaN    5    3\n",
      "1  book2    2  3.5    1    4    4  4.5    2  NaN\n",
      "2  book3  NaN    4    1  4.5    1    4  NaN  NaN\n",
      "3  book4  4.5  NaN    3  NaN    4    5    3    5\n",
      "4  book5    5    2    5    3  NaN    5    5    4\n",
      "5  book6  1.5  3.5    1  4.5  NaN  4.5    4  2.5\n",
      "6  book7  2.5  NaN  NaN    4    4    4    5    3\n",
      "7  book8    2    3  NaN    2    1    4  NaN  NaN\n"
     ]
    }
   ],
   "source": [
    "print(df_subset)"
   ]
  },
  {
   "cell_type": "code",
   "execution_count": 168,
   "id": "115154dc",
   "metadata": {},
   "outputs": [],
   "source": [
    "df2=df_subset[df_subset[\"p1\"].notnull()]"
   ]
  },
  {
   "cell_type": "code",
   "execution_count": 169,
   "id": "f80d5e01",
   "metadata": {},
   "outputs": [
    {
     "name": "stdout",
     "output_type": "stream",
     "text": [
      "    Book   p1   p2   p3   p4   p5   p6   p7   p8\n",
      "0  book1  3.5    2    5    3  NaN  NaN    5    3\n",
      "1  book2    2  3.5    1    4    4  4.5    2  NaN\n",
      "3  book4  4.5  NaN    3  NaN    4    5    3    5\n",
      "4  book5    5    2    5    3  NaN    5    5    4\n",
      "5  book6  1.5  3.5    1  4.5  NaN  4.5    4  2.5\n",
      "6  book7  2.5  NaN  NaN    4    4    4    5    3\n",
      "7  book8    2    3  NaN    2    1    4  NaN  NaN\n"
     ]
    }
   ],
   "source": [
    "print(df2)"
   ]
  },
  {
   "cell_type": "code",
   "execution_count": 170,
   "id": "3ba0e0cf",
   "metadata": {},
   "outputs": [],
   "source": [
    "df2=df2[df2[\"p5\"].notnull()]"
   ]
  },
  {
   "cell_type": "code",
   "execution_count": 171,
   "id": "998664bc",
   "metadata": {},
   "outputs": [
    {
     "name": "stdout",
     "output_type": "stream",
     "text": [
      "    Book   p1   p2   p3   p4 p5   p6   p7   p8\n",
      "1  book2    2  3.5    1    4  4  4.5    2  NaN\n",
      "3  book4  4.5  NaN    3  NaN  4    5    3    5\n",
      "6  book7  2.5  NaN  NaN    4  4    4    5    3\n",
      "7  book8    2    3  NaN    2  1    4  NaN  NaN\n"
     ]
    }
   ],
   "source": [
    "print(df2)"
   ]
  },
  {
   "cell_type": "code",
   "execution_count": 172,
   "id": "5aa38cd9",
   "metadata": {},
   "outputs": [],
   "source": [
    "manhattan_distance4=distance.cityblock(df2['p1'].astype(float),df2['p5'].astype(float))"
   ]
  },
  {
   "cell_type": "code",
   "execution_count": 173,
   "id": "1073d127",
   "metadata": {},
   "outputs": [
    {
     "name": "stdout",
     "output_type": "stream",
     "text": [
      "5.0\n"
     ]
    }
   ],
   "source": [
    "print(manhattan_distance4)"
   ]
  },
  {
   "cell_type": "code",
   "execution_count": 174,
   "id": "039df662",
   "metadata": {},
   "outputs": [],
   "source": [
    "euclidean_distance4=distance.euclidean(df2['p1'].astype(float),df2['p5'].astype(float))"
   ]
  },
  {
   "cell_type": "code",
   "execution_count": 175,
   "id": "9d43c07b",
   "metadata": {},
   "outputs": [
    {
     "name": "stdout",
     "output_type": "stream",
     "text": [
      "2.7386127875258306\n"
     ]
    }
   ],
   "source": [
    "print(euclidean_distance4)"
   ]
  },
  {
   "cell_type": "code",
   "execution_count": 176,
   "id": "d06f4deb",
   "metadata": {},
   "outputs": [
    {
     "data": {
      "text/plain": [
       "2.320794416806389"
      ]
     },
     "execution_count": 176,
     "metadata": {},
     "output_type": "execute_result"
    }
   ],
   "source": [
    "minkowski_distance4=distance.minkowski(df2['p1'].astype(float),df2['p5'].astype(float),p=3)\n",
    "minkowski_distance4"
   ]
  },
  {
   "cell_type": "code",
   "execution_count": 177,
   "id": "edbabf0f",
   "metadata": {},
   "outputs": [
    {
     "name": "stdout",
     "output_type": "stream",
     "text": [
      "    Book   p1   p2   p3   p4   p5   p6   p7   p8\n",
      "0  book1  3.5    2    5    3  NaN  NaN    5    3\n",
      "1  book2    2  3.5    1    4    4  4.5    2  NaN\n",
      "2  book3  NaN    4    1  4.5    1    4  NaN  NaN\n",
      "3  book4  4.5  NaN    3  NaN    4    5    3    5\n",
      "4  book5    5    2    5    3  NaN    5    5    4\n",
      "5  book6  1.5  3.5    1  4.5  NaN  4.5    4  2.5\n",
      "6  book7  2.5  NaN  NaN    4    4    4    5    3\n",
      "7  book8    2    3  NaN    2    1    4  NaN  NaN\n"
     ]
    }
   ],
   "source": [
    "print(df_subset)"
   ]
  },
  {
   "cell_type": "code",
   "execution_count": 178,
   "id": "8dcceacd",
   "metadata": {},
   "outputs": [],
   "source": [
    "df2=df_subset[df_subset[\"p1\"].notnull()]"
   ]
  },
  {
   "cell_type": "code",
   "execution_count": 179,
   "id": "a52950a5",
   "metadata": {},
   "outputs": [
    {
     "name": "stdout",
     "output_type": "stream",
     "text": [
      "    Book   p1   p2   p3   p4   p5   p6   p7   p8\n",
      "0  book1  3.5    2    5    3  NaN  NaN    5    3\n",
      "1  book2    2  3.5    1    4    4  4.5    2  NaN\n",
      "3  book4  4.5  NaN    3  NaN    4    5    3    5\n",
      "4  book5    5    2    5    3  NaN    5    5    4\n",
      "5  book6  1.5  3.5    1  4.5  NaN  4.5    4  2.5\n",
      "6  book7  2.5  NaN  NaN    4    4    4    5    3\n",
      "7  book8    2    3  NaN    2    1    4  NaN  NaN\n"
     ]
    }
   ],
   "source": [
    "print(df2)"
   ]
  },
  {
   "cell_type": "code",
   "execution_count": 180,
   "id": "157e6b01",
   "metadata": {},
   "outputs": [],
   "source": [
    "df2=df2[df2[\"p6\"].notnull()]"
   ]
  },
  {
   "cell_type": "code",
   "execution_count": 181,
   "id": "6cb99a35",
   "metadata": {},
   "outputs": [
    {
     "name": "stdout",
     "output_type": "stream",
     "text": [
      "    Book   p1   p2   p3   p4   p5   p6   p7   p8\n",
      "1  book2    2  3.5    1    4    4  4.5    2  NaN\n",
      "3  book4  4.5  NaN    3  NaN    4    5    3    5\n",
      "4  book5    5    2    5    3  NaN    5    5    4\n",
      "5  book6  1.5  3.5    1  4.5  NaN  4.5    4  2.5\n",
      "6  book7  2.5  NaN  NaN    4    4    4    5    3\n",
      "7  book8    2    3  NaN    2    1    4  NaN  NaN\n"
     ]
    }
   ],
   "source": [
    "print(df2)"
   ]
  },
  {
   "cell_type": "code",
   "execution_count": 182,
   "id": "49a234ce",
   "metadata": {},
   "outputs": [],
   "source": [
    "manhattan_distance5=distance.cityblock(df2['p1'].astype(float),df2['p6'].astype(float))"
   ]
  },
  {
   "cell_type": "code",
   "execution_count": 183,
   "id": "f39c9bbd",
   "metadata": {},
   "outputs": [
    {
     "name": "stdout",
     "output_type": "stream",
     "text": [
      "9.5\n"
     ]
    }
   ],
   "source": [
    "print(manhattan_distance5)"
   ]
  },
  {
   "cell_type": "code",
   "execution_count": 184,
   "id": "5bb5f56d",
   "metadata": {},
   "outputs": [],
   "source": [
    "euclidean_distance5=distance.euclidean(df2['p1'].astype(float),df2['p6'].astype(float))"
   ]
  },
  {
   "cell_type": "code",
   "execution_count": 185,
   "id": "eb02afe7",
   "metadata": {},
   "outputs": [
    {
     "name": "stdout",
     "output_type": "stream",
     "text": [
      "4.663689526544408\n"
     ]
    }
   ],
   "source": [
    "print(euclidean_distance5)"
   ]
  },
  {
   "cell_type": "code",
   "execution_count": 186,
   "id": "2e413d1f",
   "metadata": {},
   "outputs": [
    {
     "data": {
      "text/plain": [
       "3.782677386112564"
      ]
     },
     "execution_count": 186,
     "metadata": {},
     "output_type": "execute_result"
    }
   ],
   "source": [
    "minkowski_distance5=distance.minkowski(df2['p1'].astype(float),df2['p6'].astype(float),p=3)\n",
    "minkowski_distance5"
   ]
  },
  {
   "cell_type": "code",
   "execution_count": 187,
   "id": "e9aa61b7",
   "metadata": {},
   "outputs": [
    {
     "name": "stdout",
     "output_type": "stream",
     "text": [
      "    Book   p1   p2   p3   p4   p5   p6   p7   p8\n",
      "0  book1  3.5    2    5    3  NaN  NaN    5    3\n",
      "1  book2    2  3.5    1    4    4  4.5    2  NaN\n",
      "2  book3  NaN    4    1  4.5    1    4  NaN  NaN\n",
      "3  book4  4.5  NaN    3  NaN    4    5    3    5\n",
      "4  book5    5    2    5    3  NaN    5    5    4\n",
      "5  book6  1.5  3.5    1  4.5  NaN  4.5    4  2.5\n",
      "6  book7  2.5  NaN  NaN    4    4    4    5    3\n",
      "7  book8    2    3  NaN    2    1    4  NaN  NaN\n"
     ]
    }
   ],
   "source": [
    "print(df_subset)"
   ]
  },
  {
   "cell_type": "code",
   "execution_count": 188,
   "id": "e90983c0",
   "metadata": {},
   "outputs": [],
   "source": [
    "df2=df_subset[df_subset[\"p1\"].notnull()]"
   ]
  },
  {
   "cell_type": "code",
   "execution_count": 189,
   "id": "18b55105",
   "metadata": {},
   "outputs": [
    {
     "name": "stdout",
     "output_type": "stream",
     "text": [
      "    Book   p1   p2   p3   p4   p5   p6   p7   p8\n",
      "0  book1  3.5    2    5    3  NaN  NaN    5    3\n",
      "1  book2    2  3.5    1    4    4  4.5    2  NaN\n",
      "3  book4  4.5  NaN    3  NaN    4    5    3    5\n",
      "4  book5    5    2    5    3  NaN    5    5    4\n",
      "5  book6  1.5  3.5    1  4.5  NaN  4.5    4  2.5\n",
      "6  book7  2.5  NaN  NaN    4    4    4    5    3\n",
      "7  book8    2    3  NaN    2    1    4  NaN  NaN\n"
     ]
    }
   ],
   "source": [
    "print(df2)"
   ]
  },
  {
   "cell_type": "code",
   "execution_count": 190,
   "id": "841669db",
   "metadata": {},
   "outputs": [],
   "source": [
    "df2=df2[df2[\"p7\"].notnull()]"
   ]
  },
  {
   "cell_type": "code",
   "execution_count": 191,
   "id": "88674f4a",
   "metadata": {},
   "outputs": [
    {
     "name": "stdout",
     "output_type": "stream",
     "text": [
      "    Book   p1   p2   p3   p4   p5   p6 p7   p8\n",
      "0  book1  3.5    2    5    3  NaN  NaN  5    3\n",
      "1  book2    2  3.5    1    4    4  4.5  2  NaN\n",
      "3  book4  4.5  NaN    3  NaN    4    5  3    5\n",
      "4  book5    5    2    5    3  NaN    5  5    4\n",
      "5  book6  1.5  3.5    1  4.5  NaN  4.5  4  2.5\n",
      "6  book7  2.5  NaN  NaN    4    4    4  5    3\n"
     ]
    }
   ],
   "source": [
    "print(df2)"
   ]
  },
  {
   "cell_type": "code",
   "execution_count": 192,
   "id": "bfa4327d",
   "metadata": {},
   "outputs": [],
   "source": [
    "manhattan_distance6=distance.cityblock(df2['p1'].astype(float),df2['p7'].astype(float))"
   ]
  },
  {
   "cell_type": "code",
   "execution_count": 193,
   "id": "2302ed3f",
   "metadata": {},
   "outputs": [
    {
     "name": "stdout",
     "output_type": "stream",
     "text": [
      "8.0\n"
     ]
    }
   ],
   "source": [
    "print(manhattan_distance6)"
   ]
  },
  {
   "cell_type": "code",
   "execution_count": 194,
   "id": "c5d6eee1",
   "metadata": {},
   "outputs": [],
   "source": [
    "euclidean_distance6=distance.euclidean(df2['p1'].astype(float),df2['p7'].astype(float))"
   ]
  },
  {
   "cell_type": "code",
   "execution_count": 195,
   "id": "7ad8a6f9",
   "metadata": {},
   "outputs": [
    {
     "name": "stdout",
     "output_type": "stream",
     "text": [
      "4.123105625617661\n"
     ]
    }
   ],
   "source": [
    "print(euclidean_distance6)"
   ]
  },
  {
   "cell_type": "code",
   "execution_count": 196,
   "id": "faeb26c8",
   "metadata": {},
   "outputs": [
    {
     "data": {
      "text/plain": [
       "3.361975406798963"
      ]
     },
     "execution_count": 196,
     "metadata": {},
     "output_type": "execute_result"
    }
   ],
   "source": [
    "minkowski_distance6=distance.minkowski(df2['p1'].astype(float),df2['p7'].astype(float),p=3)\n",
    "minkowski_distance6"
   ]
  },
  {
   "cell_type": "code",
   "execution_count": 197,
   "id": "1356ca14",
   "metadata": {},
   "outputs": [
    {
     "name": "stdout",
     "output_type": "stream",
     "text": [
      "    Book   p1   p2   p3   p4   p5   p6   p7   p8\n",
      "0  book1  3.5    2    5    3  NaN  NaN    5    3\n",
      "1  book2    2  3.5    1    4    4  4.5    2  NaN\n",
      "2  book3  NaN    4    1  4.5    1    4  NaN  NaN\n",
      "3  book4  4.5  NaN    3  NaN    4    5    3    5\n",
      "4  book5    5    2    5    3  NaN    5    5    4\n",
      "5  book6  1.5  3.5    1  4.5  NaN  4.5    4  2.5\n",
      "6  book7  2.5  NaN  NaN    4    4    4    5    3\n",
      "7  book8    2    3  NaN    2    1    4  NaN  NaN\n"
     ]
    }
   ],
   "source": [
    "print(df_subset)"
   ]
  },
  {
   "cell_type": "code",
   "execution_count": 198,
   "id": "9ba61268",
   "metadata": {},
   "outputs": [],
   "source": [
    "df2=df_subset[df_subset[\"p1\"].notnull()]"
   ]
  },
  {
   "cell_type": "code",
   "execution_count": 199,
   "id": "2dbd1eb3",
   "metadata": {},
   "outputs": [
    {
     "name": "stdout",
     "output_type": "stream",
     "text": [
      "    Book   p1   p2   p3   p4   p5   p6   p7   p8\n",
      "0  book1  3.5    2    5    3  NaN  NaN    5    3\n",
      "1  book2    2  3.5    1    4    4  4.5    2  NaN\n",
      "3  book4  4.5  NaN    3  NaN    4    5    3    5\n",
      "4  book5    5    2    5    3  NaN    5    5    4\n",
      "5  book6  1.5  3.5    1  4.5  NaN  4.5    4  2.5\n",
      "6  book7  2.5  NaN  NaN    4    4    4    5    3\n",
      "7  book8    2    3  NaN    2    1    4  NaN  NaN\n"
     ]
    }
   ],
   "source": [
    "\n",
    "print(df2)"
   ]
  },
  {
   "cell_type": "code",
   "execution_count": 200,
   "id": "ecf16641",
   "metadata": {},
   "outputs": [],
   "source": [
    "\n",
    "df2=df2[df2[\"p8\"].notnull()]"
   ]
  },
  {
   "cell_type": "code",
   "execution_count": 201,
   "id": "fb73393e",
   "metadata": {},
   "outputs": [
    {
     "name": "stdout",
     "output_type": "stream",
     "text": [
      "    Book   p1   p2   p3   p4   p5   p6 p7   p8\n",
      "0  book1  3.5    2    5    3  NaN  NaN  5    3\n",
      "3  book4  4.5  NaN    3  NaN    4    5  3    5\n",
      "4  book5    5    2    5    3  NaN    5  5    4\n",
      "5  book6  1.5  3.5    1  4.5  NaN  4.5  4  2.5\n",
      "6  book7  2.5  NaN  NaN    4    4    4  5    3\n"
     ]
    }
   ],
   "source": [
    "print(df2)"
   ]
  },
  {
   "cell_type": "code",
   "execution_count": 202,
   "id": "8fc39b32",
   "metadata": {},
   "outputs": [],
   "source": [
    "manhattan_distance7=distance.cityblock(df2['p1'].astype(float),df2['p8'].astype(float))"
   ]
  },
  {
   "cell_type": "code",
   "execution_count": 203,
   "id": "99b8edc6",
   "metadata": {},
   "outputs": [
    {
     "name": "stdout",
     "output_type": "stream",
     "text": [
      "3.5\n"
     ]
    }
   ],
   "source": [
    "print(manhattan_distance7)"
   ]
  },
  {
   "cell_type": "code",
   "execution_count": 204,
   "id": "6d2979af",
   "metadata": {},
   "outputs": [],
   "source": [
    "euclidean_distance7=distance.euclidean(df2['p1'].astype(float),df2['p8'].astype(float))"
   ]
  },
  {
   "cell_type": "code",
   "execution_count": 205,
   "id": "c5d9ed30",
   "metadata": {},
   "outputs": [
    {
     "name": "stdout",
     "output_type": "stream",
     "text": [
      "1.6583123951777\n"
     ]
    }
   ],
   "source": [
    "print(euclidean_distance7)"
   ]
  },
  {
   "cell_type": "code",
   "execution_count": 206,
   "id": "6f3c57f2",
   "metadata": {},
   "outputs": [
    {
     "data": {
      "text/plain": [
       "3.5"
      ]
     },
     "execution_count": 206,
     "metadata": {},
     "output_type": "execute_result"
    }
   ],
   "source": [
    "minkowski_distance7=distance.minkowski(df2['p1'].astype(float),df2['p8'].astype(float),p=1)\n",
    "minkowski_distance7"
   ]
  },
  {
   "cell_type": "code",
   "execution_count": 207,
   "id": "8c3e3174",
   "metadata": {},
   "outputs": [
    {
     "data": {
      "text/plain": [
       "1.6583123951777"
      ]
     },
     "execution_count": 207,
     "metadata": {},
     "output_type": "execute_result"
    }
   ],
   "source": [
    "minkowski_distance7=distance.minkowski(df2['p1'].astype(float),df2['p8'].astype(float),p=2)\n",
    "minkowski_distance7"
   ]
  },
  {
   "cell_type": "code",
   "execution_count": 208,
   "id": "418fa053",
   "metadata": {},
   "outputs": [
    {
     "data": {
      "text/plain": [
       "1.3342008243609724"
      ]
     },
     "execution_count": 208,
     "metadata": {},
     "output_type": "execute_result"
    }
   ],
   "source": [
    "minkowski_distance7=distance.minkowski(df2['p1'].astype(float),df2['p8'].astype(float),p=3)\n",
    "minkowski_distance7"
   ]
  },
  {
   "cell_type": "code",
   "execution_count": 209,
   "id": "3771a71b",
   "metadata": {},
   "outputs": [
    {
     "name": "stdout",
     "output_type": "stream",
     "text": [
      "Distance Manhattan \t Euclidean \t\t Minkowski\n",
      "p1-p2 \t 9.0 \t\t 4.301162633521313 \t 3.4965953285904336\n",
      "p1-p3 \t 4.5 \t\t 2.3979157616563596 \t 1.9895286039481959\n",
      "p1-p4 \t 9.0 \t\t 4.415880433163924 \t 3.5959831740739046\n",
      "p1-p5 \t 5.0 \t\t 2.7386127875258306 \t 2.320794416806389\n",
      "p1-p6 \t 9.5 \t\t 4.663689526544408 \t 3.782677386112564\n",
      "p1-p7 \t 8.0 \t\t 4.123105625617661 \t 3.361975406798963\n",
      "p1-p8 \t 3.5 \t\t 1.6583123951777 \t 1.3342008243609724\n"
     ]
    }
   ],
   "source": [
    "print('Distance', 'Manhattan', '\\t','Euclidean', '\\t\\t', 'Minkowski')\n",
    "print('p1-p2', '\\t' ,manhattan_distance1, '\\t\\t' ,euclidean_distance1, '\\t' ,minkowski_distance1)\n",
    "print('p1-p3', '\\t' ,manhattan_distance2, '\\t\\t' ,euclidean_distance2, '\\t' ,minkowski_distance2)\n",
    "print('p1-p4', '\\t' ,manhattan_distance3, '\\t\\t' ,euclidean_distance3, '\\t' ,minkowski_distance3)\n",
    "print('p1-p5', '\\t' ,manhattan_distance4, '\\t\\t' ,euclidean_distance4, '\\t' ,minkowski_distance4)\n",
    "print('p1-p6', '\\t' ,manhattan_distance5, '\\t\\t' ,euclidean_distance5, '\\t' ,minkowski_distance5)\n",
    "print('p1-p7', '\\t' ,manhattan_distance6, '\\t\\t' ,euclidean_distance6, '\\t' ,minkowski_distance6)\n",
    "print('p1-p8', '\\t' ,manhattan_distance7, '\\t\\t' ,euclidean_distance7, '\\t' ,minkowski_distance7)"
   ]
  }
 ],
 "metadata": {
  "kernelspec": {
   "display_name": "Python 3",
   "language": "python",
   "name": "python3"
  },
  "language_info": {
   "codemirror_mode": {
    "name": "ipython",
    "version": 3
   },
   "file_extension": ".py",
   "mimetype": "text/x-python",
   "name": "python",
   "nbconvert_exporter": "python",
   "pygments_lexer": "ipython3",
   "version": "3.8.8"
  }
 },
 "nbformat": 4,
 "nbformat_minor": 5
}
