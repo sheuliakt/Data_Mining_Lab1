{
 "cells": [
  {
   "cell_type": "code",
   "execution_count": 1,
   "id": "9a9e9b5d",
   "metadata": {},
   "outputs": [],
   "source": [
    "dataset=[['1','2','3'],\n",
    "        ['4','5','6','9'],\n",
    "        ['7','8','9','5'],\n",
    "        ['4','6','8','9'],\n",
    "        ['3','1','4','8'],\n",
    "        ['2','8','9','1'],\n",
    "        ['3','1','6','2'],\n",
    "        ['4','6','3','3'],\n",
    "        ['1','5','2','6'],\n",
    "        ['3','4','7','9']]\n",
    "         "
   ]
  },
  {
   "cell_type": "code",
   "execution_count": 2,
   "id": "dcb6124c",
   "metadata": {},
   "outputs": [],
   "source": [
    "from mlxtend.preprocessing import TransactionEncoder"
   ]
  },
  {
   "cell_type": "code",
   "execution_count": 3,
   "id": "9b9c8b69",
   "metadata": {},
   "outputs": [],
   "source": [
    "encoder = TransactionEncoder().fit(dataset)"
   ]
  },
  {
   "cell_type": "code",
   "execution_count": 4,
   "id": "d790a900",
   "metadata": {},
   "outputs": [],
   "source": [
    "onehot = encoder.transform(dataset)"
   ]
  },
  {
   "cell_type": "code",
   "execution_count": 5,
   "id": "c0e559c8",
   "metadata": {},
   "outputs": [],
   "source": [
    "import pandas as pd"
   ]
  },
  {
   "cell_type": "code",
   "execution_count": 6,
   "id": "ec0131d1",
   "metadata": {},
   "outputs": [],
   "source": [
    "onehot=pd.DataFrame(onehot,columns=encoder.columns_)"
   ]
  },
  {
   "cell_type": "code",
   "execution_count": 7,
   "id": "33de0866",
   "metadata": {},
   "outputs": [
    {
     "data": {
      "text/html": [
       "<div>\n",
       "<style scoped>\n",
       "    .dataframe tbody tr th:only-of-type {\n",
       "        vertical-align: middle;\n",
       "    }\n",
       "\n",
       "    .dataframe tbody tr th {\n",
       "        vertical-align: top;\n",
       "    }\n",
       "\n",
       "    .dataframe thead th {\n",
       "        text-align: right;\n",
       "    }\n",
       "</style>\n",
       "<table border=\"1\" class=\"dataframe\">\n",
       "  <thead>\n",
       "    <tr style=\"text-align: right;\">\n",
       "      <th></th>\n",
       "      <th>1</th>\n",
       "      <th>2</th>\n",
       "      <th>3</th>\n",
       "      <th>4</th>\n",
       "      <th>5</th>\n",
       "      <th>6</th>\n",
       "      <th>7</th>\n",
       "      <th>8</th>\n",
       "      <th>9</th>\n",
       "    </tr>\n",
       "  </thead>\n",
       "  <tbody>\n",
       "    <tr>\n",
       "      <th>0</th>\n",
       "      <td>True</td>\n",
       "      <td>True</td>\n",
       "      <td>True</td>\n",
       "      <td>False</td>\n",
       "      <td>False</td>\n",
       "      <td>False</td>\n",
       "      <td>False</td>\n",
       "      <td>False</td>\n",
       "      <td>False</td>\n",
       "    </tr>\n",
       "    <tr>\n",
       "      <th>1</th>\n",
       "      <td>False</td>\n",
       "      <td>False</td>\n",
       "      <td>False</td>\n",
       "      <td>True</td>\n",
       "      <td>True</td>\n",
       "      <td>True</td>\n",
       "      <td>False</td>\n",
       "      <td>False</td>\n",
       "      <td>True</td>\n",
       "    </tr>\n",
       "    <tr>\n",
       "      <th>2</th>\n",
       "      <td>False</td>\n",
       "      <td>False</td>\n",
       "      <td>False</td>\n",
       "      <td>False</td>\n",
       "      <td>True</td>\n",
       "      <td>False</td>\n",
       "      <td>True</td>\n",
       "      <td>True</td>\n",
       "      <td>True</td>\n",
       "    </tr>\n",
       "    <tr>\n",
       "      <th>3</th>\n",
       "      <td>False</td>\n",
       "      <td>False</td>\n",
       "      <td>False</td>\n",
       "      <td>True</td>\n",
       "      <td>False</td>\n",
       "      <td>True</td>\n",
       "      <td>False</td>\n",
       "      <td>True</td>\n",
       "      <td>True</td>\n",
       "    </tr>\n",
       "    <tr>\n",
       "      <th>4</th>\n",
       "      <td>True</td>\n",
       "      <td>False</td>\n",
       "      <td>True</td>\n",
       "      <td>True</td>\n",
       "      <td>False</td>\n",
       "      <td>False</td>\n",
       "      <td>False</td>\n",
       "      <td>True</td>\n",
       "      <td>False</td>\n",
       "    </tr>\n",
       "    <tr>\n",
       "      <th>5</th>\n",
       "      <td>True</td>\n",
       "      <td>True</td>\n",
       "      <td>False</td>\n",
       "      <td>False</td>\n",
       "      <td>False</td>\n",
       "      <td>False</td>\n",
       "      <td>False</td>\n",
       "      <td>True</td>\n",
       "      <td>True</td>\n",
       "    </tr>\n",
       "    <tr>\n",
       "      <th>6</th>\n",
       "      <td>True</td>\n",
       "      <td>True</td>\n",
       "      <td>True</td>\n",
       "      <td>False</td>\n",
       "      <td>False</td>\n",
       "      <td>True</td>\n",
       "      <td>False</td>\n",
       "      <td>False</td>\n",
       "      <td>False</td>\n",
       "    </tr>\n",
       "    <tr>\n",
       "      <th>7</th>\n",
       "      <td>False</td>\n",
       "      <td>False</td>\n",
       "      <td>True</td>\n",
       "      <td>True</td>\n",
       "      <td>False</td>\n",
       "      <td>True</td>\n",
       "      <td>False</td>\n",
       "      <td>False</td>\n",
       "      <td>False</td>\n",
       "    </tr>\n",
       "    <tr>\n",
       "      <th>8</th>\n",
       "      <td>True</td>\n",
       "      <td>True</td>\n",
       "      <td>False</td>\n",
       "      <td>False</td>\n",
       "      <td>True</td>\n",
       "      <td>True</td>\n",
       "      <td>False</td>\n",
       "      <td>False</td>\n",
       "      <td>False</td>\n",
       "    </tr>\n",
       "    <tr>\n",
       "      <th>9</th>\n",
       "      <td>False</td>\n",
       "      <td>False</td>\n",
       "      <td>True</td>\n",
       "      <td>True</td>\n",
       "      <td>False</td>\n",
       "      <td>False</td>\n",
       "      <td>True</td>\n",
       "      <td>False</td>\n",
       "      <td>True</td>\n",
       "    </tr>\n",
       "  </tbody>\n",
       "</table>\n",
       "</div>"
      ],
      "text/plain": [
       "       1      2      3      4      5      6      7      8      9\n",
       "0   True   True   True  False  False  False  False  False  False\n",
       "1  False  False  False   True   True   True  False  False   True\n",
       "2  False  False  False  False   True  False   True   True   True\n",
       "3  False  False  False   True  False   True  False   True   True\n",
       "4   True  False   True   True  False  False  False   True  False\n",
       "5   True   True  False  False  False  False  False   True   True\n",
       "6   True   True   True  False  False   True  False  False  False\n",
       "7  False  False   True   True  False   True  False  False  False\n",
       "8   True   True  False  False   True   True  False  False  False\n",
       "9  False  False   True   True  False  False   True  False   True"
      ]
     },
     "execution_count": 7,
     "metadata": {},
     "output_type": "execute_result"
    }
   ],
   "source": [
    "onehot"
   ]
  },
  {
   "cell_type": "code",
   "execution_count": 8,
   "id": "c507dd0a",
   "metadata": {},
   "outputs": [],
   "source": [
    "from mlxtend.frequent_patterns import apriori"
   ]
  },
  {
   "cell_type": "code",
   "execution_count": 9,
   "id": "bedae578",
   "metadata": {},
   "outputs": [],
   "source": [
    "frequent_itemset=apriori(onehot,min_support=0.06,max_len=3,use_colnames=True)"
   ]
  },
  {
   "cell_type": "code",
   "execution_count": 10,
   "id": "1eee0c78",
   "metadata": {},
   "outputs": [
    {
     "name": "stdout",
     "output_type": "stream",
     "text": [
      "    support   itemsets\n",
      "0       0.5        (1)\n",
      "1       0.4        (2)\n",
      "2       0.5        (3)\n",
      "3       0.5        (4)\n",
      "4       0.3        (5)\n",
      "..      ...        ...\n",
      "66      0.1  (7, 8, 5)\n",
      "67      0.1  (7, 5, 9)\n",
      "68      0.1  (8, 5, 9)\n",
      "69      0.1  (6, 8, 9)\n",
      "70      0.1  (7, 8, 9)\n",
      "\n",
      "[71 rows x 2 columns]\n"
     ]
    }
   ],
   "source": [
    "print(frequent_itemset)"
   ]
  },
  {
   "cell_type": "code",
   "execution_count": 11,
   "id": "0707df82",
   "metadata": {},
   "outputs": [],
   "source": [
    "from mlxtend.frequent_patterns import association_rules"
   ]
  },
  {
   "cell_type": "code",
   "execution_count": 12,
   "id": "a1cf41c8",
   "metadata": {},
   "outputs": [],
   "source": [
    "rules=association_rules(frequent_itemset,metric=\"support\",min_threshold=0)"
   ]
  },
  {
   "cell_type": "code",
   "execution_count": 13,
   "id": "805493eb",
   "metadata": {},
   "outputs": [
    {
     "name": "stdout",
     "output_type": "stream",
     "text": [
      "    antecedents consequents  antecedent support  consequent support  support  \\\n",
      "0           (2)         (1)                 0.4                 0.5      0.4   \n",
      "1           (1)         (2)                 0.5                 0.4      0.4   \n",
      "2           (1)         (3)                 0.5                 0.5      0.3   \n",
      "3           (3)         (1)                 0.5                 0.5      0.3   \n",
      "4           (4)         (1)                 0.5                 0.5      0.1   \n",
      "..          ...         ...                 ...                 ...      ...   \n",
      "243      (7, 9)         (8)                 0.2                 0.4      0.1   \n",
      "244      (8, 9)         (7)                 0.3                 0.2      0.1   \n",
      "245         (7)      (8, 9)                 0.2                 0.3      0.1   \n",
      "246         (8)      (7, 9)                 0.4                 0.2      0.1   \n",
      "247         (9)      (7, 8)                 0.5                 0.1      0.1   \n",
      "\n",
      "     confidence      lift  leverage  conviction  \n",
      "0      1.000000  2.000000      0.20         inf  \n",
      "1      0.800000  2.000000      0.20    3.000000  \n",
      "2      0.600000  1.200000      0.05    1.250000  \n",
      "3      0.600000  1.200000      0.05    1.250000  \n",
      "4      0.200000  0.400000     -0.15    0.625000  \n",
      "..          ...       ...       ...         ...  \n",
      "243    0.500000  1.250000      0.02    1.200000  \n",
      "244    0.333333  1.666667      0.04    1.200000  \n",
      "245    0.500000  1.666667      0.04    1.400000  \n",
      "246    0.250000  1.250000      0.02    1.066667  \n",
      "247    0.200000  2.000000      0.05    1.125000  \n",
      "\n",
      "[248 rows x 9 columns]\n"
     ]
    }
   ],
   "source": [
    "print(rules)"
   ]
  },
  {
   "cell_type": "code",
   "execution_count": 14,
   "id": "cc14cbad",
   "metadata": {},
   "outputs": [],
   "source": [
    "from mlxtend.frequent_patterns import apriori"
   ]
  },
  {
   "cell_type": "code",
   "execution_count": 15,
   "id": "a0eda71e",
   "metadata": {},
   "outputs": [],
   "source": [
    "frequent_itemset=apriori(onehot,min_support=0.001,max_len=2,use_colnames=True)"
   ]
  },
  {
   "cell_type": "code",
   "execution_count": 16,
   "id": "91a85f23",
   "metadata": {},
   "outputs": [
    {
     "name": "stdout",
     "output_type": "stream",
     "text": [
      "    support itemsets\n",
      "0       0.5      (1)\n",
      "1       0.4      (2)\n",
      "2       0.5      (3)\n",
      "3       0.5      (4)\n",
      "4       0.3      (5)\n",
      "5       0.5      (6)\n",
      "6       0.2      (7)\n",
      "7       0.4      (8)\n",
      "8       0.5      (9)\n",
      "9       0.4   (2, 1)\n",
      "10      0.3   (1, 3)\n",
      "11      0.1   (4, 1)\n",
      "12      0.1   (5, 1)\n",
      "13      0.2   (6, 1)\n",
      "14      0.2   (8, 1)\n",
      "15      0.1   (9, 1)\n",
      "16      0.2   (2, 3)\n",
      "17      0.1   (5, 2)\n",
      "18      0.2   (6, 2)\n",
      "19      0.1   (8, 2)\n",
      "20      0.1   (9, 2)\n",
      "21      0.3   (4, 3)\n",
      "22      0.2   (6, 3)\n",
      "23      0.1   (7, 3)\n",
      "24      0.1   (8, 3)\n",
      "25      0.1   (9, 3)\n",
      "26      0.1   (4, 5)\n",
      "27      0.3   (6, 4)\n",
      "28      0.1   (7, 4)\n",
      "29      0.2   (8, 4)\n",
      "30      0.3   (4, 9)\n",
      "31      0.2   (6, 5)\n",
      "32      0.1   (7, 5)\n",
      "33      0.1   (8, 5)\n",
      "34      0.2   (5, 9)\n",
      "35      0.1   (6, 8)\n",
      "36      0.2   (6, 9)\n",
      "37      0.1   (7, 8)\n",
      "38      0.2   (7, 9)\n",
      "39      0.3   (8, 9)\n"
     ]
    }
   ],
   "source": [
    "print(frequent_itemset)"
   ]
  },
  {
   "cell_type": "code",
   "execution_count": null,
   "id": "766b3ba3",
   "metadata": {},
   "outputs": [],
   "source": []
  },
  {
   "cell_type": "code",
   "execution_count": null,
   "id": "83764785",
   "metadata": {},
   "outputs": [],
   "source": []
  }
 ],
 "metadata": {
  "kernelspec": {
   "display_name": "Python 3",
   "language": "python",
   "name": "python3"
  },
  "language_info": {
   "codemirror_mode": {
    "name": "ipython",
    "version": 3
   },
   "file_extension": ".py",
   "mimetype": "text/x-python",
   "name": "python",
   "nbconvert_exporter": "python",
   "pygments_lexer": "ipython3",
   "version": "3.8.8"
  }
 },
 "nbformat": 4,
 "nbformat_minor": 5
}
